{
 "cells": [
  {
   "cell_type": "code",
   "execution_count": 1,
   "metadata": {},
   "outputs": [
    {
     "name": "stdout",
     "output_type": "stream",
     "text": [
      "IMAGE          CREATED       CREATED BY                                      SIZE      COMMENT\n",
      "19dd4d73108a   13 days ago   /bin/sh -c #(nop)  CMD [\"nginx\" \"-g\" \"daemon…   0B        \n",
      "<missing>      13 days ago   /bin/sh -c #(nop)  STOPSIGNAL SIGQUIT           0B        \n",
      "<missing>      13 days ago   /bin/sh -c #(nop)  EXPOSE 80                    0B        \n",
      "<missing>      13 days ago   /bin/sh -c #(nop)  ENTRYPOINT [\"/docker-entr…   0B        \n",
      "<missing>      13 days ago   /bin/sh -c #(nop) COPY file:e57eef017a414ca7…   4.62kB    \n",
      "<missing>      13 days ago   /bin/sh -c #(nop) COPY file:abbcbf84dc17ee44…   1.27kB    \n",
      "<missing>      13 days ago   /bin/sh -c #(nop) COPY file:5c18272734349488…   2.12kB    \n",
      "<missing>      13 days ago   /bin/sh -c #(nop) COPY file:7b307b62e82255f0…   1.62kB    \n",
      "<missing>      13 days ago   /bin/sh -c set -x     && addgroup -g 101 -S …   18MB      \n",
      "<missing>      13 days ago   /bin/sh -c #(nop)  ENV PKG_RELEASE=1            0B        \n",
      "<missing>      13 days ago   /bin/sh -c #(nop)  ENV NJS_VERSION=0.7.7        0B        \n",
      "<missing>      13 days ago   /bin/sh -c #(nop)  ENV NGINX_VERSION=1.23.2     0B        \n",
      "<missing>      13 days ago   /bin/sh -c #(nop)  LABEL maintainer=NGINX Do…   0B        \n",
      "<missing>      2 weeks ago   /bin/sh -c #(nop)  CMD [\"/bin/sh\"]              0B        \n",
      "<missing>      2 weeks ago   /bin/sh -c #(nop) ADD file:ceeb6e8632fafc657…   5.54MB    \n"
     ]
    }
   ],
   "source": [
    "!docker history nginx:1.23-alpine\n"
   ]
  },
  {
   "cell_type": "code",
   "execution_count": 3,
   "metadata": {},
   "outputs": [
    {
     "name": "stdout",
     "output_type": "stream",
     "text": [
      "REPOSITORY   TAG           IMAGE ID       CREATED       SIZE\n",
      "nginx        1.23-alpine   19dd4d73108a   13 days ago   23.5MB\n"
     ]
    }
   ],
   "source": [
    "!docker image ls"
   ]
  },
  {
   "cell_type": "code",
   "execution_count": 5,
   "metadata": {},
   "outputs": [
    {
     "name": "stdout",
     "output_type": "stream",
     "text": [
      "[\n",
      "    {\n",
      "        \"Id\": \"sha256:19dd4d73108a1feefc29d299f3727467ac02486c83474fc3979e4a7637291fe6\",\n",
      "        \"RepoTags\": [\n",
      "            \"nginx:1.23-alpine\"\n",
      "        ],\n",
      "        \"RepoDigests\": [\n",
      "            \"nginx@sha256:455c39afebd4d98ef26dd70284aa86e6810b0485af5f4f222b19b89758cabf1e\"\n",
      "        ],\n",
      "        \"Parent\": \"\",\n",
      "        \"Comment\": \"\",\n",
      "        \"Created\": \"2022-11-12T06:27:47.33774049Z\",\n",
      "        \"Container\": \"3d6e40973806c9e8769cd1315bbbf54ed590c4f5febcb1ac80ced2c8da530e0a\",\n",
      "        \"ContainerConfig\": {\n",
      "            \"Hostname\": \"3d6e40973806\",\n",
      "            \"Domainname\": \"\",\n",
      "            \"User\": \"\",\n",
      "            \"AttachStdin\": false,\n",
      "            \"AttachStdout\": false,\n",
      "            \"AttachStderr\": false,\n",
      "            \"ExposedPorts\": {\n",
      "                \"80/tcp\": {}\n",
      "            },\n",
      "            \"Tty\": false,\n",
      "            \"OpenStdin\": false,\n",
      "            \"StdinOnce\": false,\n",
      "            \"Env\": [\n",
      "                \"PATH=/usr/local/sbin:/usr/local/bin:/usr/sbin:/usr/bin:/sbin:/bin\",\n",
      "                \"NGINX_VERSION=1.23.2\",\n",
      "                \"NJS_VERSION=0.7.7\",\n",
      "                \"PKG_RELEASE=1\"\n",
      "            ],\n",
      "            \"Cmd\": [\n",
      "                \"/bin/sh\",\n",
      "                \"-c\",\n",
      "                \"#(nop) \",\n",
      "                \"CMD [\\\"nginx\\\" \\\"-g\\\" \\\"daemon off;\\\"]\"\n",
      "            ],\n",
      "            \"Image\": \"sha256:49c0d13884b7b451b306c6323aab0b6d259df7c9f44fc3ebdb29e76f94466ba9\",\n",
      "            \"Volumes\": null,\n",
      "            \"WorkingDir\": \"\",\n",
      "            \"Entrypoint\": [\n",
      "                \"/docker-entrypoint.sh\"\n",
      "            ],\n",
      "            \"OnBuild\": null,\n",
      "            \"Labels\": {\n",
      "                \"maintainer\": \"NGINX Docker Maintainers <docker-maint@nginx.com>\"\n",
      "            },\n",
      "            \"StopSignal\": \"SIGQUIT\"\n",
      "        },\n",
      "        \"DockerVersion\": \"20.10.12\",\n",
      "        \"Author\": \"\",\n",
      "        \"Config\": {\n",
      "            \"Hostname\": \"\",\n",
      "            \"Domainname\": \"\",\n",
      "            \"User\": \"\",\n",
      "            \"AttachStdin\": false,\n",
      "            \"AttachStdout\": false,\n",
      "            \"AttachStderr\": false,\n",
      "            \"ExposedPorts\": {\n",
      "                \"80/tcp\": {}\n",
      "            },\n",
      "            \"Tty\": false,\n",
      "            \"OpenStdin\": false,\n",
      "            \"StdinOnce\": false,\n",
      "            \"Env\": [\n",
      "                \"PATH=/usr/local/sbin:/usr/local/bin:/usr/sbin:/usr/bin:/sbin:/bin\",\n",
      "                \"NGINX_VERSION=1.23.2\",\n",
      "                \"NJS_VERSION=0.7.7\",\n",
      "                \"PKG_RELEASE=1\"\n",
      "            ],\n",
      "            \"Cmd\": [\n",
      "                \"nginx\",\n",
      "                \"-g\",\n",
      "                \"daemon off;\"\n",
      "            ],\n",
      "            \"Image\": \"sha256:49c0d13884b7b451b306c6323aab0b6d259df7c9f44fc3ebdb29e76f94466ba9\",\n",
      "            \"Volumes\": null,\n",
      "            \"WorkingDir\": \"\",\n",
      "            \"Entrypoint\": [\n",
      "                \"/docker-entrypoint.sh\"\n",
      "            ],\n",
      "            \"OnBuild\": null,\n",
      "            \"Labels\": {\n",
      "                \"maintainer\": \"NGINX Docker Maintainers <docker-maint@nginx.com>\"\n",
      "            },\n",
      "            \"StopSignal\": \"SIGQUIT\"\n",
      "        },\n",
      "        \"Architecture\": \"amd64\",\n",
      "        \"Os\": \"linux\",\n",
      "        \"Size\": 23527465,\n",
      "        \"VirtualSize\": 23527465,\n",
      "        \"GraphDriver\": {\n",
      "            \"Data\": {\n",
      "                \"LowerDir\": \"/workspace/.docker-root/overlay2/0f2d54c5b45538253c5e72e26944e227e256ee413eea68575d9f96e7be5c6ed9/diff:/workspace/.docker-root/overlay2/abd2c15e6a61685bededf7117d71fe8f26b628c6b70f8e64d81b26071e9b855f/diff:/workspace/.docker-root/overlay2/5f5ac31c93e0be0e1c78fa93ef0cd167c78198c0b8e406aaf9630b4ae10400c9/diff:/workspace/.docker-root/overlay2/f606e4862176fbe93fbe3aa80ac403b07667186a827784fb5dab4e72e127d8b5/diff:/workspace/.docker-root/overlay2/0d4a18cafc5f8f700716590d19c53bf9f4e92042cea98be649f6f7937f8af3cc/diff\",\n",
      "                \"MergedDir\": \"/workspace/.docker-root/overlay2/9585e46c8bec3599398981b0cdc9b5e8b101d36337563c651287fc22a26d64a0/merged\",\n",
      "                \"UpperDir\": \"/workspace/.docker-root/overlay2/9585e46c8bec3599398981b0cdc9b5e8b101d36337563c651287fc22a26d64a0/diff\",\n",
      "                \"WorkDir\": \"/workspace/.docker-root/overlay2/9585e46c8bec3599398981b0cdc9b5e8b101d36337563c651287fc22a26d64a0/work\"\n",
      "            },\n",
      "            \"Name\": \"overlay2\"\n",
      "        },\n",
      "        \"RootFS\": {\n",
      "            \"Type\": \"layers\",\n",
      "            \"Layers\": [\n",
      "                \"sha256:e5e13b0c77cbb769548077189c3da2f0a764ceca06af49d8d558e759f5c232bd\",\n",
      "                \"sha256:07099189e7ec257e501d9625507b55e0ea32c330e38c90d8533b3fa2a7a97069\",\n",
      "                \"sha256:fcf860bf48b4e20f24f44ba02115dc9f23eef6d41d69e9a050889bf25104e12a\",\n",
      "                \"sha256:6636f46e559dffe6373b200c359773488f201ed2153507fb8d8fe3f04fdf477e\",\n",
      "                \"sha256:9365b1fffb04e52b8f6abf1c8737ba4da02e134c1d8550e0ace4cb562d12f070\",\n",
      "                \"sha256:bd502c2dee4c0bc2cf334c7d289e5a14ededd6c9c361137d128d3c12e4babf5d\"\n",
      "            ]\n",
      "        },\n",
      "        \"Metadata\": {\n",
      "            \"LastTagTime\": \"0001-01-01T00:00:00Z\"\n",
      "        }\n",
      "    }\n",
      "]\n"
     ]
    }
   ],
   "source": [
    "!docker image inspect 19dd4d73108a"
   ]
  },
  {
   "cell_type": "code",
   "execution_count": null,
   "metadata": {},
   "outputs": [],
   "source": []
  }
 ],
 "metadata": {
  "kernelspec": {
   "display_name": "Python 3",
   "language": "python",
   "name": "python3"
  },
  "language_info": {
   "codemirror_mode": {
    "name": "ipython",
    "version": 3
   },
   "file_extension": ".py",
   "mimetype": "text/x-python",
   "name": "python",
   "nbconvert_exporter": "python",
   "pygments_lexer": "ipython3",
   "version": "3.8.13 (default, Oct  4 2022, 14:00:32) \n[GCC 9.4.0]"
  },
  "orig_nbformat": 4,
  "vscode": {
   "interpreter": {
    "hash": "9ac03a0a6051494cc606d484d27d20fce22fb7b4d169f583271e11d5ba46a56e"
   }
  }
 },
 "nbformat": 4,
 "nbformat_minor": 2
}
