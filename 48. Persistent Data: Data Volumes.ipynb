{
 "cells": [
  {
   "cell_type": "code",
   "execution_count": 1,
   "metadata": {},
   "outputs": [
    {
     "name": "stdout",
     "output_type": "stream",
     "text": [
      "Unable to find image 'mysql:latest' locally\n",
      "latest: Pulling from library/mysql\n",
      "\n",
      "\u001b[1Bc0c24818: Pulling fs layer \n",
      "\u001b[1B106fbb5a: Pulling fs layer \n",
      "\u001b[1B36ae1d5e: Pulling fs layer \n",
      "\u001b[1B8928796e: Pulling fs layer \n",
      "\u001b[1B087cff11: Pulling fs layer \n",
      "\u001b[1Bac5b33f6: Pulling fs layer \n",
      "\u001b[1Bb83a7112: Pulling fs layer \n",
      "\u001b[1Bf5c876c6: Pulling fs layer \n",
      "\u001b[1Bebd061d5: Pulling fs layer \n",
      "\u001b[1B553cf6b4: Pulling fs layer \n",
      "\u001b[1B5e218e12: Pull complete  119B/119B1kBB\u001b[11A\u001b[2K\u001b[9A\u001b[2K\u001b[11A\u001b[2K\u001b[10A\u001b[2K\u001b[11A\u001b[2K\u001b[8A\u001b[2K\u001b[8A\u001b[2K\u001b[7A\u001b[2K\u001b[11A\u001b[2K\u001b[6A\u001b[2K\u001b[11A\u001b[2K\u001b[11A\u001b[2K\u001b[5A\u001b[2K\u001b[5A\u001b[2K\u001b[3A\u001b[2K\u001b[5A\u001b[2K\u001b[3A\u001b[2K\u001b[5A\u001b[2K\u001b[2A\u001b[2K\u001b[5A\u001b[2K\u001b[3A\u001b[2K\u001b[3A\u001b[2K\u001b[1A\u001b[2K\u001b[3A\u001b[2K\u001b[11A\u001b[2K\u001b[3A\u001b[2K\u001b[3A\u001b[2K\u001b[11A\u001b[2K\u001b[11A\u001b[2K\u001b[11A\u001b[2K\u001b[11A\u001b[2K\u001b[11A\u001b[2K\u001b[11A\u001b[2K\u001b[11A\u001b[2K\u001b[11A\u001b[2K\u001b[11A\u001b[2K\u001b[10A\u001b[2K\u001b[9A\u001b[2K\u001b[9A\u001b[2K\u001b[8A\u001b[2K\u001b[8A\u001b[2K\u001b[8A\u001b[2K\u001b[8A\u001b[2K\u001b[8A\u001b[2K\u001b[7A\u001b[2K\u001b[6A\u001b[2K\u001b[5A\u001b[2K\u001b[5A\u001b[2K\u001b[5A\u001b[2K\u001b[5A\u001b[2K\u001b[5A\u001b[2K\u001b[5A\u001b[2K\u001b[5A\u001b[2K\u001b[5A\u001b[2K\u001b[5A\u001b[2K\u001b[5A\u001b[2K\u001b[5A\u001b[2K\u001b[5A\u001b[2K\u001b[5A\u001b[2K\u001b[5A\u001b[2K\u001b[5A\u001b[2K\u001b[5A\u001b[2K\u001b[5A\u001b[2K\u001b[5A\u001b[2K\u001b[5A\u001b[2K\u001b[5A\u001b[2K\u001b[5A\u001b[2K\u001b[4A\u001b[2K\u001b[3A\u001b[2K\u001b[3A\u001b[2K\u001b[3A\u001b[2K\u001b[3A\u001b[2K\u001b[3A\u001b[2K\u001b[3A\u001b[2K\u001b[3A\u001b[2K\u001b[3A\u001b[2K\u001b[3A\u001b[2K\u001b[3A\u001b[2K\u001b[3A\u001b[2K\u001b[3A\u001b[2K\u001b[3A\u001b[2K\u001b[3A\u001b[2K\u001b[3A\u001b[2K\u001b[3A\u001b[2K\u001b[3A\u001b[2K\u001b[3A\u001b[2K\u001b[3A\u001b[2K\u001b[3A\u001b[2K\u001b[3A\u001b[2K\u001b[3A\u001b[2K\u001b[3A\u001b[2K\u001b[3A\u001b[2K\u001b[3A\u001b[2K\u001b[3A\u001b[2K\u001b[3A\u001b[2K\u001b[3A\u001b[2K\u001b[3A\u001b[2K\u001b[3A\u001b[2K\u001b[3A\u001b[2K\u001b[3A\u001b[2K\u001b[3A\u001b[2K\u001b[2A\u001b[2K\u001b[1A\u001b[2KDigest: sha256:96439dd0d8d085cd90c8001be2c9dde07b8a68b472bd20efcbe3df78cff66492\n",
      "Status: Downloaded newer image for mysql:latest\n",
      "5a0bfeb4eda5ba393b9921e09615f3a74ac2129a126d5619eadccbe660f2a5a0\n"
     ]
    }
   ],
   "source": [
    "!docker run -d --name mysql -e MYSQL_RANDOM_ROOT_PASSWORD=true mysql"
   ]
  },
  {
   "cell_type": "code",
   "execution_count": 2,
   "metadata": {},
   "outputs": [
    {
     "name": "stdout",
     "output_type": "stream",
     "text": [
      "REPOSITORY   TAG       IMAGE ID       CREATED       SIZE\n",
      "mysql        latest    3842e9cdffd2   10 days ago   538MB\n"
     ]
    }
   ],
   "source": [
    "!docker image ls"
   ]
  },
  {
   "cell_type": "code",
   "execution_count": 5,
   "metadata": {},
   "outputs": [
    {
     "name": "stdout",
     "output_type": "stream",
     "text": [
      "[\n",
      "    {\n",
      "        \"Id\": \"sha256:3842e9cdffd239649671beaec03b363b52f7b050fbb4a8869c052438408d6d2e\",\n",
      "        \"RepoTags\": [\n",
      "            \"mysql:latest\"\n",
      "        ],\n",
      "        \"RepoDigests\": [\n",
      "            \"mysql@sha256:96439dd0d8d085cd90c8001be2c9dde07b8a68b472bd20efcbe3df78cff66492\"\n",
      "        ],\n",
      "        \"Parent\": \"\",\n",
      "        \"Comment\": \"\",\n",
      "        \"Created\": \"2022-11-16T08:43:43.776541752Z\",\n",
      "        \"Container\": \"d3fe71a55956e86ca8c6dfa23a86aad5269681f1f9d31745b7e13af4bb1ab56f\",\n",
      "        \"ContainerConfig\": {\n",
      "            \"Hostname\": \"d3fe71a55956\",\n",
      "            \"Domainname\": \"\",\n",
      "            \"User\": \"\",\n",
      "            \"AttachStdin\": false,\n",
      "            \"AttachStdout\": false,\n",
      "            \"AttachStderr\": false,\n",
      "            \"ExposedPorts\": {\n",
      "                \"3306/tcp\": {},\n",
      "                \"33060/tcp\": {}\n",
      "            },\n",
      "            \"Tty\": false,\n",
      "            \"OpenStdin\": false,\n",
      "            \"StdinOnce\": false,\n",
      "            \"Env\": [\n",
      "                \"PATH=/usr/local/sbin:/usr/local/bin:/usr/sbin:/usr/bin:/sbin:/bin\",\n",
      "                \"GOSU_VERSION=1.14\",\n",
      "                \"MYSQL_MAJOR=8.0\",\n",
      "                \"MYSQL_VERSION=8.0.31-1.el8\",\n",
      "                \"MYSQL_SHELL_VERSION=8.0.31-1.el8\"\n",
      "            ],\n",
      "            \"Cmd\": [\n",
      "                \"/bin/sh\",\n",
      "                \"-c\",\n",
      "                \"#(nop) \",\n",
      "                \"CMD [\\\"mysqld\\\"]\"\n",
      "            ],\n",
      "            \"Image\": \"sha256:0717e871638515a1adeab7756a2bbfa7b4f1669ef88d3752456dcce265bbe024\",\n",
      "            \"Volumes\": {\n",
      "                \"/var/lib/mysql\": {}\n",
      "            },\n",
      "            \"WorkingDir\": \"\",\n",
      "            \"Entrypoint\": [\n",
      "                \"docker-entrypoint.sh\"\n",
      "            ],\n",
      "            \"OnBuild\": null,\n",
      "            \"Labels\": {}\n",
      "        },\n",
      "        \"DockerVersion\": \"20.10.12\",\n",
      "        \"Author\": \"\",\n",
      "        \"Config\": {\n",
      "            \"Hostname\": \"\",\n",
      "            \"Domainname\": \"\",\n",
      "            \"User\": \"\",\n",
      "            \"AttachStdin\": false,\n",
      "            \"AttachStdout\": false,\n",
      "            \"AttachStderr\": false,\n",
      "            \"ExposedPorts\": {\n",
      "                \"3306/tcp\": {},\n",
      "                \"33060/tcp\": {}\n",
      "            },\n",
      "            \"Tty\": false,\n",
      "            \"OpenStdin\": false,\n",
      "            \"StdinOnce\": false,\n",
      "            \"Env\": [\n",
      "                \"PATH=/usr/local/sbin:/usr/local/bin:/usr/sbin:/usr/bin:/sbin:/bin\",\n",
      "                \"GOSU_VERSION=1.14\",\n",
      "                \"MYSQL_MAJOR=8.0\",\n",
      "                \"MYSQL_VERSION=8.0.31-1.el8\",\n",
      "                \"MYSQL_SHELL_VERSION=8.0.31-1.el8\"\n",
      "            ],\n",
      "            \"Cmd\": [\n",
      "                \"mysqld\"\n",
      "            ],\n",
      "            \"Image\": \"sha256:0717e871638515a1adeab7756a2bbfa7b4f1669ef88d3752456dcce265bbe024\",\n",
      "            \"Volumes\": {\n",
      "                \"/var/lib/mysql\": {}\n",
      "            },\n",
      "            \"WorkingDir\": \"\",\n",
      "            \"Entrypoint\": [\n",
      "                \"docker-entrypoint.sh\"\n",
      "            ],\n",
      "            \"OnBuild\": null,\n",
      "            \"Labels\": null\n",
      "        },\n",
      "        \"Architecture\": \"amd64\",\n",
      "        \"Os\": \"linux\",\n",
      "        \"Size\": 537964835,\n",
      "        \"VirtualSize\": 537964835,\n",
      "        \"GraphDriver\": {\n",
      "            \"Data\": {\n",
      "                \"LowerDir\": \"/workspace/.docker-root/overlay2/f112ced851de65052dd2f4633f68b35eaa606119cb3c66b7559d97f017a3edd6/diff:/workspace/.docker-root/overlay2/a9a687269690aec9a968c55146d004b3db34be39d603b9ff73e31c0b249e1945/diff:/workspace/.docker-root/overlay2/95e71be67360d9db7103067020aeafa00068022b47ffc516cde17e0227b59478/diff:/workspace/.docker-root/overlay2/80d09e9ca18916c4ee7e05079c66c2cb8ba31ba936aecf2239963d52689fa5aa/diff:/workspace/.docker-root/overlay2/dd07c296f89627e67c0512a3d42ade5fc8c1cc3807bc0aa71f212df75580c9d5/diff:/workspace/.docker-root/overlay2/6a6d6ecb91195f01fa7ad63990692a7a898b317f7bb976256962af21fd016fb2/diff:/workspace/.docker-root/overlay2/6d752b3c18ecd53094ee6b38f0a338ebf20054cabc257789a5dcb9d5f4a17e13/diff:/workspace/.docker-root/overlay2/0cf5807c42d7d86dce156351c53ab6d07f879ad1d32c5fa77be98aeabb9772b4/diff:/workspace/.docker-root/overlay2/f78f82a789c3283dc83018688ba2126a832d3882e8f4b2194b793980fc4f8b62/diff:/workspace/.docker-root/overlay2/58ddcb5f6bfbca29f240c17a8efb2634027260f4f6277a1563e58b4c263c0683/diff\",\n",
      "                \"MergedDir\": \"/workspace/.docker-root/overlay2/9dbfe3a1467ca657b5ca200edc1b7d11d5c904a5b415903245cb8f8625347728/merged\",\n",
      "                \"UpperDir\": \"/workspace/.docker-root/overlay2/9dbfe3a1467ca657b5ca200edc1b7d11d5c904a5b415903245cb8f8625347728/diff\",\n",
      "                \"WorkDir\": \"/workspace/.docker-root/overlay2/9dbfe3a1467ca657b5ca200edc1b7d11d5c904a5b415903245cb8f8625347728/work\"\n",
      "            },\n",
      "            \"Name\": \"overlay2\"\n",
      "        },\n",
      "        \"RootFS\": {\n",
      "            \"Type\": \"layers\",\n",
      "            \"Layers\": [\n",
      "                \"sha256:4d0c6342b0f59879b314fbfd16867ed6a92583ad06e7f649e53de722af0f2156\",\n",
      "                \"sha256:437bfe664fb2e90ddc27e044ff01e58451df86762385462f22797f275540ffd7\",\n",
      "                \"sha256:b86bd80e156843b8db968c22bb5f466fbf913af40225f94301ced39984d72ec3\",\n",
      "                \"sha256:1e4614d1f65df7615b80e985400dfba439ff85cd55c837297b9a57e2da35dd54\",\n",
      "                \"sha256:ed5c1da221b60ef087796a866c089028df27a8a891cd4c3a18cf1d7ceed03e25\",\n",
      "                \"sha256:ef49e07a76fbd9be6d667ead42be4724094406ea6feceef7a47bafd9fb46f86b\",\n",
      "                \"sha256:6b7e563dc9efe72eb40c1310add1ec025a66e414d6cbeb7a69ba4bd2dd5d96ff\",\n",
      "                \"sha256:d785c41e315bb6bbe62428b511f7d3ecbe514a2b4163ec825f87c997ca754164\",\n",
      "                \"sha256:8848f79a3581bf86a7e56316dabb50874edc82861eded7258656f43d55aecb00\",\n",
      "                \"sha256:615e49ac424e85e6b6854d8daef359bdd02df67b93eaf6bc6ae61faeeecd8143\",\n",
      "                \"sha256:fec0a7b8da093ced3ae537a406b854d3764c466ba825da2dee659f8569aa7147\"\n",
      "            ]\n",
      "        },\n",
      "        \"Metadata\": {\n",
      "            \"LastTagTime\": \"0001-01-01T00:00:00Z\"\n",
      "        }\n",
      "    }\n",
      "]\n"
     ]
    }
   ],
   "source": [
    "!docker image inspect mysql"
   ]
  },
  {
   "cell_type": "code",
   "execution_count": 7,
   "metadata": {},
   "outputs": [
    {
     "name": "stdout",
     "output_type": "stream",
     "text": [
      "DRIVER    VOLUME NAME\n",
      "local     1651d0c5430ecb753a252b2e487467576e85a82ced58772e06968688a7fadd42\n"
     ]
    }
   ],
   "source": [
    "!docker volume ls"
   ]
  },
  {
   "cell_type": "code",
   "execution_count": 9,
   "metadata": {},
   "outputs": [
    {
     "name": "stdout",
     "output_type": "stream",
     "text": [
      "[\n",
      "    {\n",
      "        \"CreatedAt\": \"2022-11-27T02:23:56Z\",\n",
      "        \"Driver\": \"local\",\n",
      "        \"Labels\": null,\n",
      "        \"Mountpoint\": \"/workspace/.docker-root/volumes/1651d0c5430ecb753a252b2e487467576e85a82ced58772e06968688a7fadd42/_data\",\n",
      "        \"Name\": \"1651d0c5430ecb753a252b2e487467576e85a82ced58772e06968688a7fadd42\",\n",
      "        \"Options\": null,\n",
      "        \"Scope\": \"local\"\n",
      "    }\n",
      "]\n"
     ]
    }
   ],
   "source": [
    "!docker volume inspect 1651d0c5430ecb753a252b2e487467576e85a82ced58772e06968688a7fadd42"
   ]
  },
  {
   "cell_type": "code",
   "execution_count": null,
   "metadata": {},
   "outputs": [],
   "source": []
  }
 ],
 "metadata": {
  "kernelspec": {
   "display_name": "Python 3",
   "language": "python",
   "name": "python3"
  },
  "language_info": {
   "codemirror_mode": {
    "name": "ipython",
    "version": 3
   },
   "file_extension": ".py",
   "mimetype": "text/x-python",
   "name": "python",
   "nbconvert_exporter": "python",
   "pygments_lexer": "ipython3",
   "version": "3.8.13"
  },
  "orig_nbformat": 4,
  "vscode": {
   "interpreter": {
    "hash": "9ac03a0a6051494cc606d484d27d20fce22fb7b4d169f583271e11d5ba46a56e"
   }
  }
 },
 "nbformat": 4,
 "nbformat_minor": 2
}
