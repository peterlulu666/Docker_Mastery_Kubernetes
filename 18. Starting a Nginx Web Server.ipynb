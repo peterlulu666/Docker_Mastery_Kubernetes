{
 "cells": [
  {
   "cell_type": "code",
   "execution_count": 1,
   "id": "5f83530a-4eb3-4dde-b2fc-904789ac065a",
   "metadata": {},
   "outputs": [
    {
     "name": "stdout",
     "output_type": "stream",
     "text": [
      "/docker-entrypoint.sh: /docker-entrypoint.d/ is not empty, will attempt to perform configuration\n",
      "/docker-entrypoint.sh: Looking for shell scripts in /docker-entrypoint.d/\n",
      "/docker-entrypoint.sh: Launching /docker-entrypoint.d/10-listen-on-ipv6-by-default.sh\n",
      "10-listen-on-ipv6-by-default.sh: info: Getting the checksum of /etc/nginx/conf.d/default.conf\n",
      "10-listen-on-ipv6-by-default.sh: info: Enabled listen on IPv6 in /etc/nginx/conf.d/default.conf\n",
      "/docker-entrypoint.sh: Launching /docker-entrypoint.d/20-envsubst-on-templates.sh\n",
      "/docker-entrypoint.sh: Launching /docker-entrypoint.d/30-tune-worker-processes.sh\n",
      "/docker-entrypoint.sh: Configuration complete; ready for start up\n",
      "2022/11/25 16:52:52 [notice] 1#1: using the \"epoll\" event method\n",
      "2022/11/25 16:52:52 [notice] 1#1: nginx/1.23.2\n",
      "2022/11/25 16:52:52 [notice] 1#1: built by gcc 10.2.1 20210110 (Debian 10.2.1-6) \n",
      "2022/11/25 16:52:52 [notice] 1#1: OS: Linux 5.15.0-47-generic\n",
      "2022/11/25 16:52:52 [notice] 1#1: getrlimit(RLIMIT_NOFILE): 1048576:1048576\n",
      "2022/11/25 16:52:52 [notice] 1#1: start worker processes\n",
      "2022/11/25 16:52:52 [notice] 1#1: start worker process 47\n",
      "2022/11/25 16:52:52 [notice] 1#1: start worker process 48\n",
      "2022/11/25 16:52:52 [notice] 1#1: start worker process 49\n",
      "2022/11/25 16:52:52 [notice] 1#1: start worker process 50\n",
      "2022/11/25 16:52:52 [notice] 1#1: start worker process 51\n",
      "2022/11/25 16:52:52 [notice] 1#1: start worker process 52\n",
      "2022/11/25 16:52:52 [notice] 1#1: start worker process 53\n",
      "2022/11/25 16:52:52 [notice] 1#1: start worker process 54\n",
      "2022/11/25 16:52:52 [notice] 1#1: start worker process 55\n",
      "2022/11/25 16:52:52 [notice] 1#1: start worker process 56\n",
      "2022/11/25 16:52:52 [notice] 1#1: start worker process 57\n",
      "2022/11/25 16:52:52 [notice] 1#1: start worker process 58\n",
      "2022/11/25 16:52:52 [notice] 1#1: start worker process 59\n",
      "2022/11/25 16:52:52 [notice] 1#1: start worker process 60\n",
      "2022/11/25 16:52:52 [notice] 1#1: start worker process 61\n",
      "2022/11/25 16:52:52 [notice] 1#1: start worker process 62\n",
      "^C\n",
      "2022/11/25 16:52:55 [notice] 1#1: signal 2 (SIGINT) received, exiting\n",
      "2022/11/25 16:52:55 [notice] 47#47: exiting\n",
      "2022/11/25 16:52:55 [notice] 48#48: exiting\n",
      "2022/11/25 16:52:55 [notice] 51#51: exiting\n",
      "2022/11/25 16:52:55 [notice] 50#50: exiting\n",
      "2022/11/25 16:52:55 [notice] 49#49: exiting\n",
      "2022/11/25 16:52:55 [notice] 48#48: exit\n",
      "2022/11/25 16:52:55 [notice] 47#47: exit\n",
      "2022/11/25 16:52:55 [notice] 51#51: exit\n",
      "2022/11/25 16:52:55 [notice] 54#54: exiting\n",
      "2022/11/25 16:52:55 [notice] 52#52: exiting\n",
      "2022/11/25 16:52:55 [notice] 50#50: exit\n",
      "2022/11/25 16:52:55 [notice] 49#49: exit\n",
      "2022/11/25 16:52:55 [notice] 52#52: exit\n",
      "2022/11/25 16:52:55 [notice] 54#54: exit\n",
      "2022/11/25 16:52:55 [notice] 61#61: exiting\n",
      "2022/11/25 16:52:55 [notice] 57#57: exiting\n",
      "2022/11/25 16:52:55 [notice] 53#53: exiting\n",
      "2022/11/25 16:52:55 [notice] 57#57: exit\n",
      "2022/11/25 16:52:55 [notice] 61#61: exit\n",
      "2022/11/25 16:52:55 [notice] 53#53: exit\n",
      "2022/11/25 16:52:55 [notice] 58#58: exiting\n",
      "2022/11/25 16:52:55 [notice] 58#58: exit\n",
      "2022/11/25 16:52:55 [notice] 60#60: exiting\n",
      "2022/11/25 16:52:55 [notice] 60#60: exit\n",
      "2022/11/25 16:52:55 [notice] 56#56: exiting\n",
      "2022/11/25 16:52:55 [notice] 59#59: exiting\n",
      "2022/11/25 16:52:55 [notice] 56#56: exit\n",
      "2022/11/25 16:52:55 [notice] 59#59: exit\n",
      "2022/11/25 16:52:55 [notice] 55#55: exiting\n",
      "2022/11/25 16:52:55 [notice] 55#55: exit\n",
      "2022/11/25 16:52:55 [notice] 62#62: exiting\n",
      "2022/11/25 16:52:55 [notice] 62#62: exit\n",
      "2022/11/25 16:52:55 [notice] 1#1: signal 17 (SIGCHLD) received from 54\n",
      "2022/11/25 16:52:55 [notice] 1#1: worker process 47 exited with code 0\n",
      "2022/11/25 16:52:55 [notice] 1#1: worker process 48 exited with code 0\n",
      "2022/11/25 16:52:55 [notice] 1#1: worker process 50 exited with code 0\n",
      "2022/11/25 16:52:55 [notice] 1#1: worker process 53 exited with code 0\n",
      "2022/11/25 16:52:55 [notice] 1#1: worker process 54 exited with code 0\n",
      "2022/11/25 16:52:55 [notice] 1#1: signal 29 (SIGIO) received\n",
      "2022/11/25 16:52:55 [notice] 1#1: signal 17 (SIGCHLD) received from 48\n",
      "2022/11/25 16:52:55 [notice] 1#1: worker process 49 exited with code 0\n",
      "2022/11/25 16:52:55 [notice] 1#1: signal 29 (SIGIO) received\n",
      "2022/11/25 16:52:55 [notice] 1#1: signal 17 (SIGCHLD) received from 57\n",
      "2022/11/25 16:52:55 [notice] 1#1: worker process 57 exited with code 0\n",
      "2022/11/25 16:52:55 [notice] 1#1: signal 29 (SIGIO) received\n",
      "2022/11/25 16:52:55 [notice] 1#1: signal 17 (SIGCHLD) received from 61\n",
      "2022/11/25 16:52:55 [notice] 1#1: worker process 52 exited with code 0\n",
      "2022/11/25 16:52:55 [notice] 1#1: worker process 60 exited with code 0\n",
      "2022/11/25 16:52:55 [notice] 1#1: worker process 61 exited with code 0\n",
      "2022/11/25 16:52:55 [notice] 1#1: worker process 62 exited with code 0\n",
      "2022/11/25 16:52:55 [notice] 1#1: signal 29 (SIGIO) received\n",
      "2022/11/25 16:52:55 [notice] 1#1: signal 17 (SIGCHLD) received from 52\n",
      "2022/11/25 16:52:55 [notice] 1#1: worker process 55 exited with code 0\n",
      "2022/11/25 16:52:55 [notice] 1#1: worker process 58 exited with code 0\n",
      "2022/11/25 16:52:55 [notice] 1#1: signal 29 (SIGIO) received\n",
      "2022/11/25 16:52:55 [notice] 1#1: signal 17 (SIGCHLD) received from 51\n",
      "2022/11/25 16:52:55 [notice] 1#1: worker process 51 exited with code 0\n",
      "2022/11/25 16:52:55 [notice] 1#1: signal 29 (SIGIO) received\n",
      "2022/11/25 16:52:55 [notice] 1#1: signal 17 (SIGCHLD) received from 59\n",
      "2022/11/25 16:52:55 [notice] 1#1: worker process 59 exited with code 0\n",
      "2022/11/25 16:52:55 [notice] 1#1: signal 29 (SIGIO) received\n",
      "2022/11/25 16:52:55 [notice] 1#1: signal 17 (SIGCHLD) received from 56\n",
      "2022/11/25 16:52:55 [notice] 1#1: worker process 56 exited with code 0\n",
      "2022/11/25 16:52:55 [notice] 1#1: exit\n"
     ]
    }
   ],
   "source": [
    "!docker container run --publish 80:80 nginx"
   ]
  },
  {
   "cell_type": "code",
   "execution_count": 1,
   "id": "cc1cb253",
   "metadata": {},
   "outputs": [
    {
     "name": "stdout",
     "output_type": "stream",
     "text": [
      "/docker-entrypoint.sh: /docker-entrypoint.d/ is not empty, will attempt to perform configuration\n",
      "/docker-entrypoint.sh: Looking for shell scripts in /docker-entrypoint.d/\n",
      "/docker-entrypoint.sh: Launching /docker-entrypoint.d/10-listen-on-ipv6-by-default.sh\n",
      "10-listen-on-ipv6-by-default.sh: info: Getting the checksum of /etc/nginx/conf.d/default.conf\n",
      "10-listen-on-ipv6-by-default.sh: info: Enabled listen on IPv6 in /etc/nginx/conf.d/default.conf\n",
      "/docker-entrypoint.sh: Launching /docker-entrypoint.d/20-envsubst-on-templates.sh\n",
      "/docker-entrypoint.sh: Launching /docker-entrypoint.d/30-tune-worker-processes.sh\n",
      "/docker-entrypoint.sh: Configuration complete; ready for start up\n",
      "2022/11/25 16:55:26 [notice] 1#1: using the \"epoll\" event method\n",
      "2022/11/25 16:55:26 [notice] 1#1: nginx/1.23.2\n",
      "2022/11/25 16:55:26 [notice] 1#1: built by gcc 10.2.1 20210110 (Debian 10.2.1-6) \n",
      "2022/11/25 16:55:26 [notice] 1#1: OS: Linux 5.15.0-47-generic\n",
      "2022/11/25 16:55:26 [notice] 1#1: getrlimit(RLIMIT_NOFILE): 1048576:1048576\n",
      "2022/11/25 16:55:26 [notice] 1#1: start worker processes\n",
      "2022/11/25 16:55:26 [notice] 1#1: start worker process 47\n",
      "2022/11/25 16:55:26 [notice] 1#1: start worker process 48\n",
      "2022/11/25 16:55:26 [notice] 1#1: start worker process 49\n",
      "2022/11/25 16:55:26 [notice] 1#1: start worker process 50\n",
      "2022/11/25 16:55:26 [notice] 1#1: start worker process 51\n",
      "2022/11/25 16:55:26 [notice] 1#1: start worker process 52\n",
      "2022/11/25 16:55:26 [notice] 1#1: start worker process 53\n",
      "2022/11/25 16:55:26 [notice] 1#1: start worker process 54\n",
      "2022/11/25 16:55:26 [notice] 1#1: start worker process 55\n",
      "2022/11/25 16:55:26 [notice] 1#1: start worker process 56\n",
      "2022/11/25 16:55:26 [notice] 1#1: start worker process 57\n",
      "2022/11/25 16:55:26 [notice] 1#1: start worker process 58\n",
      "2022/11/25 16:55:26 [notice] 1#1: start worker process 59\n",
      "2022/11/25 16:55:26 [notice] 1#1: start worker process 60\n",
      "2022/11/25 16:55:26 [notice] 1#1: start worker process 61\n",
      "2022/11/25 16:55:26 [notice] 1#1: start worker process 62\n",
      "^C\n",
      "2022/11/25 16:55:32 [notice] 1#1: signal 2 (SIGINT) received, exiting\n",
      "2022/11/25 16:55:32 [notice] 47#47: exiting\n",
      "2022/11/25 16:55:32 [notice] 48#48: exiting\n",
      "2022/11/25 16:55:32 [notice] 49#49: exiting\n",
      "2022/11/25 16:55:32 [notice] 50#50: exiting\n",
      "2022/11/25 16:55:32 [notice] 47#47: exit\n",
      "2022/11/25 16:55:32 [notice] 48#48: exit\n",
      "2022/11/25 16:55:32 [notice] 51#51: exiting\n",
      "2022/11/25 16:55:32 [notice] 49#49: exit\n",
      "2022/11/25 16:55:32 [notice] 50#50: exit\n",
      "2022/11/25 16:55:32 [notice] 52#52: exiting\n",
      "2022/11/25 16:55:32 [notice] 51#51: exit\n",
      "2022/11/25 16:55:32 [notice] 52#52: exit\n",
      "2022/11/25 16:55:32 [notice] 58#58: exiting\n",
      "2022/11/25 16:55:32 [notice] 53#53: exiting\n",
      "2022/11/25 16:55:32 [notice] 58#58: exit\n",
      "2022/11/25 16:55:32 [notice] 53#53: exit\n",
      "2022/11/25 16:55:32 [notice] 55#55: exiting\n",
      "2022/11/25 16:55:32 [notice] 56#56: exiting\n",
      "2022/11/25 16:55:32 [notice] 55#55: exit\n",
      "2022/11/25 16:55:32 [notice] 59#59: exiting\n",
      "2022/11/25 16:55:32 [notice] 56#56: exit\n",
      "2022/11/25 16:55:32 [notice] 59#59: exit\n",
      "2022/11/25 16:55:32 [notice] 60#60: exiting\n",
      "2022/11/25 16:55:32 [notice] 60#60: exit\n",
      "2022/11/25 16:55:32 [notice] 61#61: exiting\n",
      "2022/11/25 16:55:32 [notice] 61#61: exit\n",
      "2022/11/25 16:55:32 [notice] 57#57: exiting\n",
      "2022/11/25 16:55:32 [notice] 57#57: exit\n",
      "2022/11/25 16:55:32 [notice] 62#62: exiting\n",
      "2022/11/25 16:55:32 [notice] 62#62: exit\n",
      "2022/11/25 16:55:32 [notice] 54#54: exiting\n",
      "2022/11/25 16:55:32 [notice] 54#54: exit\n",
      "2022/11/25 16:55:32 [notice] 1#1: signal 17 (SIGCHLD) received from 47\n",
      "2022/11/25 16:55:32 [notice] 1#1: worker process 47 exited with code 0\n",
      "2022/11/25 16:55:32 [notice] 1#1: signal 29 (SIGIO) received\n",
      "2022/11/25 16:55:32 [notice] 1#1: signal 17 (SIGCHLD) received from 48\n",
      "2022/11/25 16:55:32 [notice] 1#1: worker process 48 exited with code 0\n",
      "2022/11/25 16:55:32 [notice] 1#1: signal 29 (SIGIO) received\n",
      "2022/11/25 16:55:32 [notice] 1#1: signal 17 (SIGCHLD) received from 53\n",
      "2022/11/25 16:55:32 [notice] 1#1: worker process 50 exited with code 0\n",
      "2022/11/25 16:55:32 [notice] 1#1: worker process 51 exited with code 0\n",
      "2022/11/25 16:55:32 [notice] 1#1: worker process 53 exited with code 0\n",
      "2022/11/25 16:55:32 [notice] 1#1: worker process 55 exited with code 0\n",
      "2022/11/25 16:55:32 [notice] 1#1: worker process 52 exited with code 0\n",
      "2022/11/25 16:55:32 [notice] 1#1: worker process 56 exited with code 0\n",
      "2022/11/25 16:55:32 [notice] 1#1: worker process 57 exited with code 0\n",
      "2022/11/25 16:55:32 [notice] 1#1: worker process 59 exited with code 0\n",
      "2022/11/25 16:55:32 [notice] 1#1: worker process 60 exited with code 0\n",
      "2022/11/25 16:55:32 [notice] 1#1: worker process 61 exited with code 0\n",
      "2022/11/25 16:55:32 [notice] 1#1: worker process 49 exited with code 0\n",
      "2022/11/25 16:55:32 [notice] 1#1: worker process 62 exited with code 0\n",
      "2022/11/25 16:55:32 [notice] 1#1: signal 29 (SIGIO) received\n",
      "2022/11/25 16:55:32 [notice] 1#1: signal 17 (SIGCHLD) received from 55\n",
      "2022/11/25 16:55:32 [notice] 1#1: signal 17 (SIGCHLD) received from 54\n",
      "2022/11/25 16:55:32 [notice] 1#1: worker process 54 exited with code 0\n",
      "2022/11/25 16:55:32 [notice] 1#1: signal 29 (SIGIO) received\n",
      "2022/11/25 16:55:32 [notice] 1#1: signal 17 (SIGCHLD) received from 58\n",
      "2022/11/25 16:55:32 [notice] 1#1: worker process 58 exited with code 0\n",
      "2022/11/25 16:55:32 [notice] 1#1: exit\n"
     ]
    }
   ],
   "source": [
    "!docker run --publish 80:80 nginx"
   ]
  },
  {
   "cell_type": "code",
   "execution_count": 2,
   "id": "c3ea61dc-c5c9-4b0e-872b-c2a083482cd8",
   "metadata": {},
   "outputs": [
    {
     "name": "stdout",
     "output_type": "stream",
     "text": [
      "9b718262de8d2e89daf318db4ea4e2902e2d45e43aef9e2b06f3844c8afbfe69\n"
     ]
    }
   ],
   "source": [
    "!docker run -d --publish 80:80 nginx"
   ]
  },
  {
   "cell_type": "code",
   "execution_count": 9,
   "id": "1d9051db",
   "metadata": {},
   "outputs": [
    {
     "name": "stdout",
     "output_type": "stream",
     "text": [
      "CONTAINER ID   IMAGE                                COMMAND                  CREATED          STATUS                    PORTS                                       NAMES\n",
      "9b718262de8d   nginx                                \"/docker-entrypoint.…\"   2 minutes ago    Up 2 minutes              0.0.0.0:80->80/tcp, :::80->80/tcp           keen_easley\n",
      "7f747f35b45c   peterlulu666/jupyternotebookgitpod   \"tini -g -- start-no…\"   25 minutes ago   Up 25 minutes (healthy)   0.0.0.0:8888->8888/tcp, :::8888->8888/tcp   eloquent_agnesi\n"
     ]
    }
   ],
   "source": [
    "!docker container ls"
   ]
  },
  {
   "cell_type": "code",
   "execution_count": 10,
   "id": "5c6b782c",
   "metadata": {},
   "outputs": [
    {
     "name": "stdout",
     "output_type": "stream",
     "text": [
      "9b718262de8d\n"
     ]
    }
   ],
   "source": [
    "!docker container stop 9b718262de8d"
   ]
  },
  {
   "cell_type": "markdown",
   "id": "a416e7a8",
   "metadata": {},
   "source": [
    "## list the runing docker container"
   ]
  },
  {
   "cell_type": "code",
   "execution_count": 3,
   "id": "bbd798af",
   "metadata": {},
   "outputs": [
    {
     "name": "stdout",
     "output_type": "stream",
     "text": [
      "CONTAINER ID   IMAGE     COMMAND   CREATED   STATUS    PORTS     NAMES\n"
     ]
    }
   ],
   "source": [
    "!docker container ls"
   ]
  },
  {
   "cell_type": "markdown",
   "id": "798bb5a2",
   "metadata": {},
   "source": [
    "## list all the docker container"
   ]
  },
  {
   "cell_type": "code",
   "execution_count": 4,
   "id": "b25bd7e4",
   "metadata": {},
   "outputs": [
    {
     "name": "stdout",
     "output_type": "stream",
     "text": [
      "CONTAINER ID   IMAGE                                COMMAND                  CREATED          STATUS                          PORTS     NAMES\n",
      "9b718262de8d   nginx                                \"/docker-entrypoint.…\"   5 minutes ago    Exited (0) 2 minutes ago                  keen_easley\n",
      "59a090361bd4   nginx                                \"/docker-entrypoint.…\"   5 minutes ago    Exited (0) 5 minutes ago                  happy_yalow\n",
      "579740e809ed   nginx                                \"/docker-entrypoint.…\"   8 minutes ago    Exited (0) 7 minutes ago                  trusting_morse\n",
      "3d252e33ac50   nginx                                \"/docker-entrypoint.…\"   9 minutes ago    Exited (0) 8 minutes ago                  modest_boyd\n",
      "6d00a894f339   nginx                                \"/docker-entrypoint.…\"   10 minutes ago   Exited (0) 10 minutes ago                 upbeat_dewdney\n",
      "7f747f35b45c   peterlulu666/jupyternotebookgitpod   \"tini -g -- start-no…\"   28 minutes ago   Exited (0) About a minute ago             eloquent_agnesi\n"
     ]
    }
   ],
   "source": [
    "!docker container ls -a"
   ]
  },
  {
   "cell_type": "markdown",
   "id": "7f438d47",
   "metadata": {},
   "source": [
    "## docker container run \n",
    "    - create a new container\n",
    "## docker container start\n",
    "    - start a stopped container"
   ]
  },
  {
   "cell_type": "code",
   "execution_count": 6,
   "id": "5d775818",
   "metadata": {},
   "outputs": [
    {
     "name": "stdout",
     "output_type": "stream",
     "text": [
      "9b718262de8d\n"
     ]
    }
   ],
   "source": [
    "!docker container start 9b718262de8d"
   ]
  },
  {
   "cell_type": "code",
   "execution_count": 7,
   "id": "e27b4efd",
   "metadata": {},
   "outputs": [
    {
     "name": "stdout",
     "output_type": "stream",
     "text": [
      "Error response from daemon: You cannot remove a running container 9b718262de8d2e89daf318db4ea4e2902e2d45e43aef9e2b06f3844c8afbfe69. Stop the container before attempting removal or force remove\n"
     ]
    }
   ],
   "source": [
    "!docker container rm 9b718262de8d"
   ]
  },
  {
   "cell_type": "code",
   "execution_count": 8,
   "id": "63543546",
   "metadata": {},
   "outputs": [
    {
     "name": "stdout",
     "output_type": "stream",
     "text": [
      "9b718262de8d\n"
     ]
    }
   ],
   "source": [
    "!docker container rm -f 9b718262de8d"
   ]
  },
  {
   "cell_type": "code",
   "execution_count": 10,
   "id": "9a1808fe",
   "metadata": {},
   "outputs": [
    {
     "name": "stdout",
     "output_type": "stream",
     "text": [
      "CONTAINER ID   IMAGE                                COMMAND                  CREATED          STATUS                      PORTS     NAMES\n",
      "59a090361bd4   nginx                                \"/docker-entrypoint.…\"   10 minutes ago   Exited (0) 10 minutes ago             happy_yalow\n",
      "579740e809ed   nginx                                \"/docker-entrypoint.…\"   13 minutes ago   Exited (0) 13 minutes ago             trusting_morse\n",
      "3d252e33ac50   nginx                                \"/docker-entrypoint.…\"   14 minutes ago   Exited (0) 14 minutes ago             modest_boyd\n",
      "6d00a894f339   nginx                                \"/docker-entrypoint.…\"   15 minutes ago   Exited (0) 15 minutes ago             upbeat_dewdney\n",
      "7f747f35b45c   peterlulu666/jupyternotebookgitpod   \"tini -g -- start-no…\"   33 minutes ago   Exited (0) 6 minutes ago              eloquent_agnesi\n"
     ]
    }
   ],
   "source": [
    "!docker container ls -a"
   ]
  },
  {
   "cell_type": "markdown",
   "id": "880ae10c",
   "metadata": {},
   "source": [
    "## We can use docker ps to list all the docker container"
   ]
  },
  {
   "cell_type": "code",
   "execution_count": 13,
   "id": "81478eb9",
   "metadata": {},
   "outputs": [
    {
     "name": "stdout",
     "output_type": "stream",
     "text": [
      "CONTAINER ID   IMAGE                                COMMAND                  CREATED          STATUS                      PORTS     NAMES\n",
      "59a090361bd4   nginx                                \"/docker-entrypoint.…\"   13 minutes ago   Exited (0) 13 minutes ago             happy_yalow\n",
      "579740e809ed   nginx                                \"/docker-entrypoint.…\"   16 minutes ago   Exited (0) 16 minutes ago             trusting_morse\n",
      "3d252e33ac50   nginx                                \"/docker-entrypoint.…\"   17 minutes ago   Exited (0) 17 minutes ago             modest_boyd\n",
      "6d00a894f339   nginx                                \"/docker-entrypoint.…\"   18 minutes ago   Exited (0) 18 minutes ago             upbeat_dewdney\n",
      "7f747f35b45c   peterlulu666/jupyternotebookgitpod   \"tini -g -- start-no…\"   36 minutes ago   Exited (0) 9 minutes ago              eloquent_agnesi\n"
     ]
    }
   ],
   "source": [
    "!docker ps -a"
   ]
  },
  {
   "cell_type": "code",
   "execution_count": null,
   "id": "e78fbf11",
   "metadata": {},
   "outputs": [],
   "source": []
  }
 ],
 "metadata": {
  "kernelspec": {
   "display_name": "Python 3",
   "language": "python",
   "name": "python3"
  },
  "language_info": {
   "codemirror_mode": {
    "name": "ipython",
    "version": 3
   },
   "file_extension": ".py",
   "mimetype": "text/x-python",
   "name": "python",
   "nbconvert_exporter": "python",
   "pygments_lexer": "ipython3",
   "version": "3.8.13 (default, Oct  4 2022, 14:00:32) \n[GCC 9.4.0]"
  },
  "vscode": {
   "interpreter": {
    "hash": "9ac03a0a6051494cc606d484d27d20fce22fb7b4d169f583271e11d5ba46a56e"
   }
  }
 },
 "nbformat": 4,
 "nbformat_minor": 5
}
