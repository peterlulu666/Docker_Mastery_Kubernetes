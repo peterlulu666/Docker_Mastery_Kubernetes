{
 "cells": [
  {
   "cell_type": "code",
   "execution_count": 2,
   "metadata": {},
   "outputs": [
    {
     "name": "stdout",
     "output_type": "stream",
     "text": [
      "CONTAINER ID   IMAGE     COMMAND                  CREATED         STATUS         PORTS                 NAMES\n",
      "e0ae98a94ea6   mysql     \"docker-entrypoint.s…\"   7 minutes ago   Up 7 minutes   3306/tcp, 33060/tcp   mysql\n",
      "c55ba9b387d4   nginx     \"/docker-entrypoint.…\"   8 minutes ago   Up 8 minutes   80/tcp                nginx\n"
     ]
    }
   ],
   "source": [
    "!docker container ls"
   ]
  },
  {
   "cell_type": "markdown",
   "metadata": {},
   "source": [
    "## Create container interactively"
   ]
  },
  {
   "cell_type": "code",
   "execution_count": 4,
   "metadata": {},
   "outputs": [
    {
     "name": "stdout",
     "output_type": "stream",
     "text": [
      "\u001b[?2004hb4f4481158f2:/# 2:/# ^C\u001b[?2004l\n",
      "\u001b[?2004l\n",
      "\u001b[?2004hroot@b4f4481158f2:/# "
     ]
    }
   ],
   "source": [
    "!docker container run -it nginx bash"
   ]
  },
  {
   "cell_type": "markdown",
   "metadata": {},
   "source": [
    "## Run command in existing container"
   ]
  },
  {
   "cell_type": "code",
   "execution_count": 10,
   "metadata": {},
   "outputs": [
    {
     "name": "stdout",
     "output_type": "stream",
     "text": [
      "\u001b[?2004hc55ba9b387d4:/# 4:/# ^C\u001b[?2004l\n",
      "\u001b[?2004l\n",
      "\u001b[?2004hroot@c55ba9b387d4:/# "
     ]
    }
   ],
   "source": [
    "!docker container exec -it nginx bash"
   ]
  },
  {
   "cell_type": "markdown",
   "metadata": {},
   "source": [
    "## We can only use docker container exec because httpd is not existing"
   ]
  },
  {
   "cell_type": "code",
   "execution_count": 17,
   "metadata": {},
   "outputs": [
    {
     "name": "stdout",
     "output_type": "stream",
     "text": [
      "Error: No such container: httpd\n"
     ]
    }
   ],
   "source": [
    "!docker container exec -it httpd bash"
   ]
  },
  {
   "cell_type": "code",
   "execution_count": 18,
   "metadata": {},
   "outputs": [
    {
     "name": "stdout",
     "output_type": "stream",
     "text": [
      "\u001b[?2004h33e6da6ac042:/usr/local/apache2# he2# ^C\u001b[?2004l\n",
      "\u001b[?2004l\n",
      "\u001b[?2004hroot@33e6da6ac042:/usr/local/apache2# "
     ]
    }
   ],
   "source": [
    "!docker container run -it httpd bash"
   ]
  },
  {
   "cell_type": "markdown",
   "metadata": {},
   "source": [
    "# Clean up container after the container exits"
   ]
  },
  {
   "cell_type": "code",
   "execution_count": 3,
   "metadata": {},
   "outputs": [
    {
     "name": "stdout",
     "output_type": "stream",
     "text": [
      "\u001b[?2004hoot@31027e2ddf72: /\u0007root@31027e2ddf72:/# 2:/# ^C\u001b[?2004l\n",
      "\u001b[?2004l\n",
      "\u001b[?2004h\u001b]0;root@31027e2ddf72: /\u0007root@31027e2ddf72:/# "
     ]
    }
   ],
   "source": [
    "!docker container run -it --rm -p 9000:9000 ubuntu"
   ]
  },
  {
   "cell_type": "markdown",
   "metadata": {},
   "source": [
    "## Remove all docker container"
   ]
  },
  {
   "cell_type": "code",
   "execution_count": 1,
   "metadata": {},
   "outputs": [
    {
     "name": "stdout",
     "output_type": "stream",
     "text": [
      "Error: No such container: CONTAINER\n",
      "Error: No such container: ID\n",
      "Error: No such container: IMAGE\n",
      "Error: No such container: COMMAND\n",
      "Error: No such container: CREATED\n",
      "Error: No such container: STATUS\n",
      "Error: No such container: PORTS\n",
      "Error: No such container: NAMES\n",
      "33e6da6ac042\n",
      "Error: No such container: httpd\n",
      "Error: No such container: \"bash\"\n",
      "Error: No such container: 31\n",
      "Error: No such container: minutes\n",
      "Error: No such container: ago\n",
      "Error: No such container: Exited\n",
      "Error: No such container: (129)\n",
      "Error: No such container: 31\n",
      "Error: No such container: minutes\n",
      "Error: No such container: ago\n",
      "Error: No such container: httpd\n",
      "Error: No such container: \"bash\"\n",
      "Error: No such container: 32\n",
      "Error: No such container: minutes\n",
      "Error: No such container: ago\n",
      "Error: No such container: Exited\n",
      "Error: No such container: (129)\n",
      "Error: No such container: 32\n",
      "Error: No such container: minutes\n",
      "Error: No such container: ago\n",
      "stoic_franklin\n",
      "b4f4481158f2\n",
      "Error: No such container: \"/docker-entrypoint.…\"\n",
      "Error: No such container: 40\n",
      "Error: No such container: minutes\n",
      "Error: No such container: ago\n",
      "Error: No such container: Exited\n",
      "Error: No such container: (129)\n",
      "Error: No such container: 40\n",
      "Error: No such container: minutes\n",
      "Error: No such container: ago\n",
      "Error: No such container: \"/docker-entrypoint.…\"\n",
      "Error: No such container: 41\n",
      "Error: No such container: minutes\n",
      "Error: No such container: ago\n",
      "Error: No such container: Exited\n",
      "Error: No such container: (130)\n",
      "Error: No such container: 40\n",
      "Error: No such container: minutes\n",
      "Error: No such container: ago\n",
      "quizzical_bhabha\n",
      "Error: No such container: \"/docker-entrypoint.…\"\n",
      "Error: No such container: 41\n",
      "Error: No such container: minutes\n",
      "Error: No such container: ago\n",
      "Error: No such container: Exited\n",
      "Error: No such container: (0)\n",
      "Error: No such container: 41\n",
      "Error: No such container: minutes\n",
      "Error: No such container: ago\n",
      "naughty_nightingale\n",
      "3da443eb823c\n",
      "Error: No such container: \"/docker-entrypoint.…\"\n",
      "Error: No such container: 41\n",
      "Error: No such container: minutes\n",
      "Error: No such container: ago\n",
      "Error: No such container: Exited\n",
      "Error: No such container: (0)\n",
      "Error: No such container: 41\n",
      "Error: No such container: minutes\n",
      "Error: No such container: ago\n",
      "e0ae98a94ea6\n",
      "Error: No such container: \"docker-entrypoint.s…\"\n",
      "Error: No such container: 49\n",
      "Error: No such container: minutes\n",
      "Error: No such container: ago\n",
      "Error: No such container: Up\n",
      "Error: No such container: 49\n",
      "Error: No such container: minutes\n",
      "Error: No such container: 3306/tcp,\n",
      "Error: No such container: 33060/tcp\n",
      "Error: No such container: \"/docker-entrypoint.…\"\n",
      "Error: No such container: 50\n",
      "Error: No such container: minutes\n",
      "Error: No such container: ago\n",
      "Error: No such container: Up\n",
      "Error: No such container: 50\n",
      "Error: No such container: minutes\n",
      "Error: No such container: 80/tcp\n",
      "nginx\n",
      "Error response from daemon: removal of container vigorous_swartz is already in progress\n",
      "Error response from daemon: removal of container c0ff7a3c69f7 is already in progress\n",
      "Error response from daemon: removal of container nginx is already in progress\n",
      "Error response from daemon: removal of container affectionate_villani is already in progress\n",
      "Error response from daemon: removal of container a08e2eb2c1c7 is already in progress\n",
      "Error response from daemon: removal of container nginx is already in progress\n",
      "Error response from daemon: removal of container 1cac896b51eb is already in progress\n",
      "Error response from daemon: removal of container nginx is already in progress\n",
      "Error response from daemon: removal of container nginx is already in progress\n",
      "Error response from daemon: removal of container recursing_brattain is already in progress\n",
      "Error response from daemon: removal of container mysql is already in progress\n",
      "Error response from daemon: removal of container mysql is already in progress\n",
      "Error response from daemon: removal of container c55ba9b387d4 is already in progress\n",
      "Error response from daemon: removal of container nginx is already in progress\n"
     ]
    }
   ],
   "source": [
    "!docker container rm -f $(docker container ls -a)"
   ]
  },
  {
   "cell_type": "code",
   "execution_count": 3,
   "metadata": {},
   "outputs": [
    {
     "name": "stdout",
     "output_type": "stream",
     "text": [
      "CONTAINER ID   IMAGE     COMMAND   CREATED   STATUS    PORTS     NAMES\n"
     ]
    }
   ],
   "source": [
    "!docker container ls -a"
   ]
  },
  {
   "cell_type": "code",
   "execution_count": 5,
   "metadata": {},
   "outputs": [
    {
     "name": "stdout",
     "output_type": "stream",
     "text": [
      "Error: No such container: CONTAINER\n",
      "Error: No such container: ID\n",
      "Error: No such container: IMAGE\n",
      "Error: No such container: COMMAND\n",
      "Error: No such container: CREATED\n",
      "Error: No such container: STATUS\n",
      "Error: No such container: PORTS\n",
      "Error: No such container: NAMES\n"
     ]
    }
   ],
   "source": [
    "!docker container rm -f $(docker ps -a)"
   ]
  },
  {
   "cell_type": "code",
   "execution_count": 6,
   "metadata": {},
   "outputs": [
    {
     "name": "stdout",
     "output_type": "stream",
     "text": [
      "CONTAINER ID   IMAGE     COMMAND   CREATED   STATUS    PORTS     NAMES\n"
     ]
    }
   ],
   "source": [
    "!docker container ls -a"
   ]
  },
  {
   "cell_type": "code",
   "execution_count": null,
   "metadata": {},
   "outputs": [],
   "source": []
  }
 ],
 "metadata": {
  "kernelspec": {
   "display_name": "Python 3",
   "language": "python",
   "name": "python3"
  },
  "language_info": {
   "codemirror_mode": {
    "name": "ipython",
    "version": 3
   },
   "file_extension": ".py",
   "mimetype": "text/x-python",
   "name": "python",
   "nbconvert_exporter": "python",
   "pygments_lexer": "ipython3",
   "version": "3.8.13"
  },
  "orig_nbformat": 4,
  "vscode": {
   "interpreter": {
    "hash": "9ac03a0a6051494cc606d484d27d20fce22fb7b4d169f583271e11d5ba46a56e"
   }
  }
 },
 "nbformat": 4,
 "nbformat_minor": 2
}
