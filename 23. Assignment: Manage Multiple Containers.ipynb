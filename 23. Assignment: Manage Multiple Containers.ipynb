{
 "cells": [
  {
   "cell_type": "code",
   "execution_count": 12,
   "metadata": {},
   "outputs": [
    {
     "name": "stdout",
     "output_type": "stream",
     "text": [
      "8b1aec0392956aa373a0d1a4f51adb215906d38f9fb1e2aa241d75c91f7e6a38\n"
     ]
    }
   ],
   "source": [
    "!docker container run -d --name run_nginx -p 80:80 nginx"
   ]
  },
  {
   "cell_type": "code",
   "execution_count": 13,
   "metadata": {},
   "outputs": [
    {
     "name": "stdout",
     "output_type": "stream",
     "text": [
      "CONTAINER ID   IMAGE     COMMAND                  CREATED         STATUS         PORTS                               NAMES\n",
      "8b1aec039295   nginx     \"/docker-entrypoint.…\"   2 seconds ago   Up 2 seconds   0.0.0.0:80->80/tcp, :::80->80/tcp   run_nginx\n"
     ]
    }
   ],
   "source": [
    "!docker container ls"
   ]
  },
  {
   "cell_type": "code",
   "execution_count": 21,
   "metadata": {},
   "outputs": [
    {
     "name": "stdout",
     "output_type": "stream",
     "text": [
      "6b3b3b28d6e32ae9c8adea8d717be1ca005831e8047b0409fe7d82ac9e225146\n"
     ]
    }
   ],
   "source": [
    "!docker container run -d --name run_httpd -p 8080:80 httpd"
   ]
  },
  {
   "cell_type": "code",
   "execution_count": 22,
   "metadata": {},
   "outputs": [
    {
     "name": "stdout",
     "output_type": "stream",
     "text": [
      "CONTAINER ID   IMAGE     COMMAND                  CREATED          STATUS          PORTS                                   NAMES\n",
      "6b3b3b28d6e3   httpd     \"httpd-foreground\"       15 seconds ago   Up 15 seconds   0.0.0.0:8080->80/tcp, :::8080->80/tcp   run_httpd\n",
      "8b1aec039295   nginx     \"/docker-entrypoint.…\"   2 minutes ago    Up 2 minutes    0.0.0.0:80->80/tcp, :::80->80/tcp       run_nginx\n"
     ]
    }
   ],
   "source": [
    "!docker container ls"
   ]
  },
  {
   "cell_type": "code",
   "execution_count": 5,
   "metadata": {},
   "outputs": [
    {
     "name": "stdout",
     "output_type": "stream",
     "text": [
      "54f9194137fbe65d4cffe5478bd0820908a9bf8b65c355bfa9b58456f2d664e4\n"
     ]
    }
   ],
   "source": [
    "!docker container run -d --name run_mysql -p 3306:3306 -e MYSQL_RANDOM_ROOT_PASSWORD=true mysql"
   ]
  },
  {
   "cell_type": "code",
   "execution_count": 11,
   "metadata": {},
   "outputs": [
    {
     "name": "stdout",
     "output_type": "stream",
     "text": [
      "CONTAINER ID   IMAGE     COMMAND                  CREATED          STATUS          PORTS                                                  NAMES\n",
      "54f9194137fb   mysql     \"docker-entrypoint.s…\"   4 minutes ago    Up 4 minutes    0.0.0.0:3306->3306/tcp, :::3306->3306/tcp, 33060/tcp   run_mysql\n",
      "6b3b3b28d6e3   httpd     \"httpd-foreground\"       11 minutes ago   Up 11 minutes   0.0.0.0:8080->80/tcp, :::8080->80/tcp                  run_httpd\n",
      "8b1aec039295   nginx     \"/docker-entrypoint.…\"   13 minutes ago   Up 13 minutes   0.0.0.0:80->80/tcp, :::80->80/tcp                      run_nginx\n"
     ]
    }
   ],
   "source": [
    "!docker container ls"
   ]
  },
  {
   "cell_type": "code",
   "execution_count": 12,
   "metadata": {},
   "outputs": [
    {
     "name": "stdout",
     "output_type": "stream",
     "text": [
      "2022-11-25 17:30:15+00:00 [Note] [Entrypoint]: Entrypoint script for MySQL Server 8.0.31-1.el8 started.\n",
      "2022-11-25 17:30:15+00:00 [Note] [Entrypoint]: Switching to dedicated user 'mysql'\n",
      "2022-11-25 17:30:15+00:00 [Note] [Entrypoint]: Entrypoint script for MySQL Server 8.0.31-1.el8 started.\n",
      "2022-11-25 17:30:15+00:00 [Note] [Entrypoint]: Initializing database files\n",
      "2022-11-25T17:30:15.851543Z 0 [Warning] [MY-011068] [Server] The syntax '--skip-host-cache' is deprecated and will be removed in a future release. Please use SET GLOBAL host_cache_size=0 instead.\n",
      "2022-11-25T17:30:15.851624Z 0 [System] [MY-013169] [Server] /usr/sbin/mysqld (mysqld 8.0.31) initializing of server in progress as process 98\n",
      "2022-11-25T17:30:15.856508Z 1 [System] [MY-013576] [InnoDB] InnoDB initialization has started.\n",
      "2022-11-25T17:30:16.229893Z 1 [System] [MY-013577] [InnoDB] InnoDB initialization has ended.\n",
      "2022-11-25T17:30:16.990937Z 6 [Warning] [MY-010453] [Server] root@localhost is created with an empty password ! Please consider switching off the --initialize-insecure option.\n",
      "2022-11-25 17:30:19+00:00 [Note] [Entrypoint]: Database files initialized\n",
      "2022-11-25 17:30:19+00:00 [Note] [Entrypoint]: Starting temporary server\n",
      "2022-11-25T17:30:19.398566Z 0 [Warning] [MY-011068] [Server] The syntax '--skip-host-cache' is deprecated and will be removed in a future release. Please use SET GLOBAL host_cache_size=0 instead.\n",
      "2022-11-25T17:30:19.399640Z 0 [System] [MY-010116] [Server] /usr/sbin/mysqld (mysqld 8.0.31) starting as process 149\n",
      "2022-11-25T17:30:19.418268Z 1 [System] [MY-013576] [InnoDB] InnoDB initialization has started.\n",
      "2022-11-25T17:30:19.494893Z 1 [System] [MY-013577] [InnoDB] InnoDB initialization has ended.\n",
      "2022-11-25T17:30:19.716972Z 0 [Warning] [MY-010068] [Server] CA certificate ca.pem is self signed.\n",
      "2022-11-25T17:30:19.717018Z 0 [System] [MY-013602] [Server] Channel mysql_main configured to support TLS. Encrypted connections are now supported for this channel.\n",
      "2022-11-25T17:30:19.718076Z 0 [Warning] [MY-011810] [Server] Insecure configuration for --pid-file: Location '/var/run/mysqld' in the path is accessible to all OS users. Consider choosing a different directory.\n",
      "2022-11-25T17:30:19.732159Z 0 [System] [MY-011323] [Server] X Plugin ready for connections. Socket: /var/run/mysqld/mysqlx.sock\n",
      "2022-11-25T17:30:19.732238Z 0 [System] [MY-010931] [Server] /usr/sbin/mysqld: ready for connections. Version: '8.0.31'  socket: '/var/run/mysqld/mysqld.sock'  port: 0  MySQL Community Server - GPL.\n",
      "2022-11-25 17:30:19+00:00 [Note] [Entrypoint]: Temporary server started.\n",
      "'/var/lib/mysql/mysql.sock' -> '/var/run/mysqld/mysqld.sock'\n",
      "Warning: Unable to load '/usr/share/zoneinfo/iso3166.tab' as time zone. Skipping it.\n",
      "Warning: Unable to load '/usr/share/zoneinfo/leapseconds' as time zone. Skipping it.\n",
      "Warning: Unable to load '/usr/share/zoneinfo/tzdata.zi' as time zone. Skipping it.\n",
      "Warning: Unable to load '/usr/share/zoneinfo/zone.tab' as time zone. Skipping it.\n",
      "Warning: Unable to load '/usr/share/zoneinfo/zone1970.tab' as time zone. Skipping it.\n",
      "2022-11-25 17:30:21+00:00 [Note] [Entrypoint]: GENERATED ROOT PASSWORD: zZZ/ezWWT9kekibcgMFWjHnLaS4stKNY\n",
      "\n",
      "2022-11-25 17:30:21+00:00 [Note] [Entrypoint]: Stopping temporary server\n",
      "2022-11-25T17:30:21.711566Z 10 [System] [MY-013172] [Server] Received SHUTDOWN from user root. Shutting down mysqld (Version: 8.0.31).\n",
      "2022-11-25T17:30:23.251891Z 0 [System] [MY-010910] [Server] /usr/sbin/mysqld: Shutdown complete (mysqld 8.0.31)  MySQL Community Server - GPL.\n",
      "2022-11-25 17:30:23+00:00 [Note] [Entrypoint]: Temporary server stopped\n",
      "\n",
      "2022-11-25 17:30:23+00:00 [Note] [Entrypoint]: MySQL init process done. Ready for start up.\n",
      "\n",
      "2022-11-25T17:30:23.921957Z 0 [Warning] [MY-011068] [Server] The syntax '--skip-host-cache' is deprecated and will be removed in a future release. Please use SET GLOBAL host_cache_size=0 instead.\n",
      "2022-11-25T17:30:23.923149Z 0 [System] [MY-010116] [Server] /usr/sbin/mysqld (mysqld 8.0.31) starting as process 1\n",
      "2022-11-25T17:30:23.928074Z 1 [System] [MY-013576] [InnoDB] InnoDB initialization has started.\n",
      "2022-11-25T17:30:24.001992Z 1 [System] [MY-013577] [InnoDB] InnoDB initialization has ended.\n",
      "2022-11-25T17:30:24.187095Z 0 [Warning] [MY-010068] [Server] CA certificate ca.pem is self signed.\n",
      "2022-11-25T17:30:24.187133Z 0 [System] [MY-013602] [Server] Channel mysql_main configured to support TLS. Encrypted connections are now supported for this channel.\n",
      "2022-11-25T17:30:24.188124Z 0 [Warning] [MY-011810] [Server] Insecure configuration for --pid-file: Location '/var/run/mysqld' in the path is accessible to all OS users. Consider choosing a different directory.\n",
      "2022-11-25T17:30:24.203273Z 0 [System] [MY-011323] [Server] X Plugin ready for connections. Bind-address: '::' port: 33060, socket: /var/run/mysqld/mysqlx.sock\n",
      "2022-11-25T17:30:24.203301Z 0 [System] [MY-010931] [Server] /usr/sbin/mysqld: ready for connections. Version: '8.0.31'  socket: '/var/run/mysqld/mysqld.sock'  port: 3306  MySQL Community Server - GPL.\n"
     ]
    }
   ],
   "source": [
    "!docker container logs 54f9194137fb"
   ]
  },
  {
   "cell_type": "code",
   "execution_count": 22,
   "metadata": {},
   "outputs": [
    {
     "name": "stdout",
     "output_type": "stream",
     "text": [
      "Error: No such container: CONTAINER\n",
      "Error: No such container: ID\n",
      "Error: No such container: IMAGE\n",
      "Error: No such container: COMMAND\n",
      "Error: No such container: CREATED\n",
      "Error: No such container: STATUS\n",
      "Error: No such container: PORTS\n",
      "Error: No such container: NAMES\n"
     ]
    }
   ],
   "source": [
    "!docker container rm -f $(docker container ls -a)"
   ]
  },
  {
   "cell_type": "code",
   "execution_count": 25,
   "metadata": {},
   "outputs": [
    {
     "name": "stdout",
     "output_type": "stream",
     "text": [
      "Error: No such container: CONTAINER\n",
      "Error: No such container: ID\n",
      "Error: No such container: IMAGE\n",
      "Error: No such container: COMMAND\n",
      "Error: No such container: CREATED\n",
      "Error: No such container: STATUS\n",
      "Error: No such container: PORTS\n",
      "Error: No such container: NAMES\n"
     ]
    }
   ],
   "source": [
    "!docker container rm -f $(docker ps -a)"
   ]
  },
  {
   "cell_type": "code",
   "execution_count": 23,
   "metadata": {},
   "outputs": [
    {
     "name": "stdout",
     "output_type": "stream",
     "text": [
      "CONTAINER ID   IMAGE     COMMAND   CREATED   STATUS    PORTS     NAMES\n"
     ]
    }
   ],
   "source": [
    "!docker container ls -a"
   ]
  },
  {
   "cell_type": "code",
   "execution_count": null,
   "metadata": {},
   "outputs": [],
   "source": []
  }
 ],
 "metadata": {
  "kernelspec": {
   "display_name": "Python 3",
   "language": "python",
   "name": "python3"
  },
  "language_info": {
   "codemirror_mode": {
    "name": "ipython",
    "version": 3
   },
   "file_extension": ".py",
   "mimetype": "text/x-python",
   "name": "python",
   "nbconvert_exporter": "python",
   "pygments_lexer": "ipython3",
   "version": "3.8.13 (default, Oct  4 2022, 14:00:32) \n[GCC 9.4.0]"
  },
  "orig_nbformat": 4,
  "vscode": {
   "interpreter": {
    "hash": "9ac03a0a6051494cc606d484d27d20fce22fb7b4d169f583271e11d5ba46a56e"
   }
  }
 },
 "nbformat": 4,
 "nbformat_minor": 2
}
