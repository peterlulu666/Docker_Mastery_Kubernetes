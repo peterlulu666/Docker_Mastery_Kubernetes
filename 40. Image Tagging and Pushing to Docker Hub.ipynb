{
 "cells": [
  {
   "cell_type": "code",
   "execution_count": 5,
   "metadata": {},
   "outputs": [
    {
     "name": "stdout",
     "output_type": "stream",
     "text": [
      "REPOSITORY   TAG           IMAGE ID       CREATED       SIZE\n",
      "nginx        1.23-alpine   19dd4d73108a   13 days ago   23.5MB\n"
     ]
    }
   ],
   "source": [
    "!docker image ls"
   ]
  },
  {
   "cell_type": "code",
   "execution_count": 7,
   "metadata": {},
   "outputs": [],
   "source": [
    "!docker image tag 19dd4d73108a peterlulu666/nginx:latest"
   ]
  },
  {
   "cell_type": "code",
   "execution_count": 9,
   "metadata": {},
   "outputs": [],
   "source": [
    "!docker image tag 19dd4d73108a peterlulu666/nginx:testing"
   ]
  },
  {
   "cell_type": "code",
   "execution_count": 10,
   "metadata": {},
   "outputs": [
    {
     "name": "stdout",
     "output_type": "stream",
     "text": [
      "REPOSITORY           TAG           IMAGE ID       CREATED       SIZE\n",
      "nginx                1.23-alpine   19dd4d73108a   13 days ago   23.5MB\n",
      "peterlulu666/nginx   latest        19dd4d73108a   13 days ago   23.5MB\n",
      "peterlulu666/nginx   testing       19dd4d73108a   13 days ago   23.5MB\n"
     ]
    }
   ],
   "source": [
    "!docker image ls"
   ]
  },
  {
   "cell_type": "code",
   "execution_count": 12,
   "metadata": {},
   "outputs": [
    {
     "name": "stdout",
     "output_type": "stream",
     "text": [
      "The push refers to repository [docker.io/peterlulu666/nginx]\n",
      "\n",
      "\u001b[1B2c2dee4c: Preparing \n",
      "\u001b[1Bb1fffb04: Preparing \n",
      "\u001b[1Bf46e559d: Preparing \n",
      "\u001b[1B60bf48b4: Preparing \n",
      "\u001b[1B9189e7ec: Preparing \n",
      "\u001b[1B3b0c77cb: Mounted from library/nginx \u001b[6A\u001b[2K\u001b[1A\u001b[2Klatest: digest: sha256:0f2ab24c6aba5d96fcf6e7a736333f26dca1acf5fa8def4c276f6efc7d56251f size: 1568\n"
     ]
    }
   ],
   "source": [
    "!docker image push peterlulu666/nginx:latest"
   ]
  },
  {
   "cell_type": "code",
   "execution_count": 13,
   "metadata": {},
   "outputs": [
    {
     "name": "stdout",
     "output_type": "stream",
     "text": [
      "The push refers to repository [docker.io/peterlulu666/nginx]\n",
      "\n",
      "\u001b[1B2c2dee4c: Preparing \n",
      "\u001b[1Bb1fffb04: Preparing \n",
      "\u001b[1Bf46e559d: Preparing \n",
      "\u001b[1B60bf48b4: Preparing \n",
      "\u001b[1B9189e7ec: Preparing \n",
      "\u001b[1B3b0c77cb: Layer already exists \u001b[3A\u001b[2K\u001b[1A\u001b[2Ktesting: digest: sha256:0f2ab24c6aba5d96fcf6e7a736333f26dca1acf5fa8def4c276f6efc7d56251f size: 1568\n"
     ]
    }
   ],
   "source": [
    "!docker image push peterlulu666/nginx:testing"
   ]
  },
  {
   "cell_type": "code",
   "execution_count": null,
   "metadata": {},
   "outputs": [],
   "source": []
  }
 ],
 "metadata": {
  "kernelspec": {
   "display_name": "Python 3",
   "language": "python",
   "name": "python3"
  },
  "language_info": {
   "codemirror_mode": {
    "name": "ipython",
    "version": 3
   },
   "file_extension": ".py",
   "mimetype": "text/x-python",
   "name": "python",
   "nbconvert_exporter": "python",
   "pygments_lexer": "ipython3",
   "version": "3.8.13"
  },
  "orig_nbformat": 4,
  "vscode": {
   "interpreter": {
    "hash": "9ac03a0a6051494cc606d484d27d20fce22fb7b4d169f583271e11d5ba46a56e"
   }
  }
 },
 "nbformat": 4,
 "nbformat_minor": 2
}
