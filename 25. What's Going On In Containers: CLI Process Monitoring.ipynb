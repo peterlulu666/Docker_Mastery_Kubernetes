{
 "cells": [
  {
   "cell_type": "markdown",
   "metadata": {},
   "source": [
    "## docker container top"
   ]
  },
  {
   "cell_type": "code",
   "execution_count": 7,
   "metadata": {},
   "outputs": [
    {
     "name": "stdout",
     "output_type": "stream",
     "text": [
      "docker: Error response from daemon: Conflict. The container name \"/nginx\" is already in use by container \"c55ba9b387d4b09a6f322626a1c425a2c112e747602e021c7295448f6e99e943\". You have to remove (or rename) that container to be able to reuse that name.\n",
      "See 'docker run --help'.\n"
     ]
    }
   ],
   "source": [
    "!docker container run -d --name nginx nginx"
   ]
  },
  {
   "cell_type": "code",
   "execution_count": 8,
   "metadata": {},
   "outputs": [
    {
     "name": "stdout",
     "output_type": "stream",
     "text": [
      "docker: Error response from daemon: Conflict. The container name \"/mysql\" is already in use by container \"e0ae98a94ea62abc86a4505103107a6ce18e8f94c5ba3895adc074e31384622b\". You have to remove (or rename) that container to be able to reuse that name.\n",
      "See 'docker run --help'.\n"
     ]
    }
   ],
   "source": [
    "!docker container run -d --name mysql -e MYSQL_RANDOM_ROOT_PASSWORD=true mysql"
   ]
  },
  {
   "cell_type": "code",
   "execution_count": 9,
   "metadata": {},
   "outputs": [
    {
     "name": "stdout",
     "output_type": "stream",
     "text": [
      "CONTAINER ID   IMAGE     COMMAND                  CREATED              STATUS              PORTS                 NAMES\n",
      "e0ae98a94ea6   mysql     \"docker-entrypoint.s…\"   About a minute ago   Up About a minute   3306/tcp, 33060/tcp   mysql\n",
      "c55ba9b387d4   nginx     \"/docker-entrypoint.…\"   2 minutes ago        Up 2 minutes        80/tcp                nginx\n"
     ]
    }
   ],
   "source": [
    "!docker container ls"
   ]
  },
  {
   "cell_type": "code",
   "execution_count": 12,
   "metadata": {},
   "outputs": [
    {
     "name": "stdout",
     "output_type": "stream",
     "text": [
      "UID                 PID                 PPID                C                   STIME               TTY                 TIME                CMD\n",
      "999                 14128               14105               0                   17:45               ?                   00:00:01            mysqld\n"
     ]
    }
   ],
   "source": [
    "!docker container top mysql"
   ]
  },
  {
   "cell_type": "code",
   "execution_count": 13,
   "metadata": {},
   "outputs": [
    {
     "name": "stdout",
     "output_type": "stream",
     "text": [
      "UID                 PID                 PPID                C                   STIME               TTY                 TIME                CMD\n",
      "root                13943               13920               0                   17:44               ?                   00:00:00            nginx: master process nginx -g daemon off;\n",
      "systemd+            14028               13943               0                   17:44               ?                   00:00:00            nginx: worker process\n",
      "systemd+            14029               13943               0                   17:44               ?                   00:00:00            nginx: worker process\n",
      "systemd+            14030               13943               0                   17:44               ?                   00:00:00            nginx: worker process\n",
      "systemd+            14031               13943               0                   17:44               ?                   00:00:00            nginx: worker process\n",
      "systemd+            14032               13943               0                   17:44               ?                   00:00:00            nginx: worker process\n",
      "systemd+            14033               13943               0                   17:44               ?                   00:00:00            nginx: worker process\n",
      "systemd+            14034               13943               0                   17:44               ?                   00:00:00            nginx: worker process\n",
      "systemd+            14035               13943               0                   17:44               ?                   00:00:00            nginx: worker process\n",
      "systemd+            14036               13943               0                   17:44               ?                   00:00:00            nginx: worker process\n",
      "systemd+            14037               13943               0                   17:44               ?                   00:00:00            nginx: worker process\n",
      "systemd+            14038               13943               0                   17:44               ?                   00:00:00            nginx: worker process\n",
      "systemd+            14039               13943               0                   17:44               ?                   00:00:00            nginx: worker process\n",
      "systemd+            14040               13943               0                   17:44               ?                   00:00:00            nginx: worker process\n",
      "systemd+            14041               13943               0                   17:44               ?                   00:00:00            nginx: worker process\n",
      "systemd+            14042               13943               0                   17:44               ?                   00:00:00            nginx: worker process\n",
      "systemd+            14043               13943               0                   17:44               ?                   00:00:00            nginx: worker process\n"
     ]
    }
   ],
   "source": [
    "!docker container top nginx"
   ]
  },
  {
   "cell_type": "markdown",
   "metadata": {},
   "source": [
    "## docker container inspect"
   ]
  },
  {
   "cell_type": "code",
   "execution_count": 16,
   "metadata": {},
   "outputs": [
    {
     "name": "stdout",
     "output_type": "stream",
     "text": [
      "[\n",
      "    {\n",
      "        \"Id\": \"e0ae98a94ea62abc86a4505103107a6ce18e8f94c5ba3895adc074e31384622b\",\n",
      "        \"Created\": \"2022-11-25T17:45:20.502656192Z\",\n",
      "        \"Path\": \"docker-entrypoint.sh\",\n",
      "        \"Args\": [\n",
      "            \"mysqld\"\n",
      "        ],\n",
      "        \"State\": {\n",
      "            \"Status\": \"running\",\n",
      "            \"Running\": true,\n",
      "            \"Paused\": false,\n",
      "            \"Restarting\": false,\n",
      "            \"OOMKilled\": false,\n",
      "            \"Dead\": false,\n",
      "            \"Pid\": 14128,\n",
      "            \"ExitCode\": 0,\n",
      "            \"Error\": \"\",\n",
      "            \"StartedAt\": \"2022-11-25T17:45:21.096771522Z\",\n",
      "            \"FinishedAt\": \"0001-01-01T00:00:00Z\"\n",
      "        },\n",
      "        \"Image\": \"sha256:3842e9cdffd239649671beaec03b363b52f7b050fbb4a8869c052438408d6d2e\",\n",
      "        \"ResolvConfPath\": \"/workspace/.docker-root/containers/e0ae98a94ea62abc86a4505103107a6ce18e8f94c5ba3895adc074e31384622b/resolv.conf\",\n",
      "        \"HostnamePath\": \"/workspace/.docker-root/containers/e0ae98a94ea62abc86a4505103107a6ce18e8f94c5ba3895adc074e31384622b/hostname\",\n",
      "        \"HostsPath\": \"/workspace/.docker-root/containers/e0ae98a94ea62abc86a4505103107a6ce18e8f94c5ba3895adc074e31384622b/hosts\",\n",
      "        \"LogPath\": \"/workspace/.docker-root/containers/e0ae98a94ea62abc86a4505103107a6ce18e8f94c5ba3895adc074e31384622b/e0ae98a94ea62abc86a4505103107a6ce18e8f94c5ba3895adc074e31384622b-json.log\",\n",
      "        \"Name\": \"/mysql\",\n",
      "        \"RestartCount\": 0,\n",
      "        \"Driver\": \"overlay2\",\n",
      "        \"Platform\": \"linux\",\n",
      "        \"MountLabel\": \"\",\n",
      "        \"ProcessLabel\": \"\",\n",
      "        \"AppArmorProfile\": \"\",\n",
      "        \"ExecIDs\": null,\n",
      "        \"HostConfig\": {\n",
      "            \"Binds\": null,\n",
      "            \"ContainerIDFile\": \"\",\n",
      "            \"LogConfig\": {\n",
      "                \"Type\": \"json-file\",\n",
      "                \"Config\": {}\n",
      "            },\n",
      "            \"NetworkMode\": \"default\",\n",
      "            \"PortBindings\": {},\n",
      "            \"RestartPolicy\": {\n",
      "                \"Name\": \"no\",\n",
      "                \"MaximumRetryCount\": 0\n",
      "            },\n",
      "            \"AutoRemove\": false,\n",
      "            \"VolumeDriver\": \"\",\n",
      "            \"VolumesFrom\": null,\n",
      "            \"CapAdd\": null,\n",
      "            \"CapDrop\": null,\n",
      "            \"CgroupnsMode\": \"private\",\n",
      "            \"Dns\": [],\n",
      "            \"DnsOptions\": [],\n",
      "            \"DnsSearch\": [],\n",
      "            \"ExtraHosts\": null,\n",
      "            \"GroupAdd\": null,\n",
      "            \"IpcMode\": \"private\",\n",
      "            \"Cgroup\": \"\",\n",
      "            \"Links\": null,\n",
      "            \"OomScoreAdj\": 0,\n",
      "            \"PidMode\": \"\",\n",
      "            \"Privileged\": false,\n",
      "            \"PublishAllPorts\": false,\n",
      "            \"ReadonlyRootfs\": false,\n",
      "            \"SecurityOpt\": null,\n",
      "            \"UTSMode\": \"\",\n",
      "            \"UsernsMode\": \"\",\n",
      "            \"ShmSize\": 67108864,\n",
      "            \"Runtime\": \"gitpod\",\n",
      "            \"ConsoleSize\": [\n",
      "                0,\n",
      "                0\n",
      "            ],\n",
      "            \"Isolation\": \"\",\n",
      "            \"CpuShares\": 0,\n",
      "            \"Memory\": 0,\n",
      "            \"NanoCpus\": 0,\n",
      "            \"CgroupParent\": \"\",\n",
      "            \"BlkioWeight\": 0,\n",
      "            \"BlkioWeightDevice\": [],\n",
      "            \"BlkioDeviceReadBps\": null,\n",
      "            \"BlkioDeviceWriteBps\": null,\n",
      "            \"BlkioDeviceReadIOps\": null,\n",
      "            \"BlkioDeviceWriteIOps\": null,\n",
      "            \"CpuPeriod\": 0,\n",
      "            \"CpuQuota\": 0,\n",
      "            \"CpuRealtimePeriod\": 0,\n",
      "            \"CpuRealtimeRuntime\": 0,\n",
      "            \"CpusetCpus\": \"\",\n",
      "            \"CpusetMems\": \"\",\n",
      "            \"Devices\": [],\n",
      "            \"DeviceCgroupRules\": null,\n",
      "            \"DeviceRequests\": null,\n",
      "            \"KernelMemory\": 0,\n",
      "            \"KernelMemoryTCP\": 0,\n",
      "            \"MemoryReservation\": 0,\n",
      "            \"MemorySwap\": 0,\n",
      "            \"MemorySwappiness\": null,\n",
      "            \"OomKillDisable\": null,\n",
      "            \"PidsLimit\": null,\n",
      "            \"Ulimits\": null,\n",
      "            \"CpuCount\": 0,\n",
      "            \"CpuPercent\": 0,\n",
      "            \"IOMaximumIOps\": 0,\n",
      "            \"IOMaximumBandwidth\": 0,\n",
      "            \"MaskedPaths\": [\n",
      "                \"/proc/asound\",\n",
      "                \"/proc/acpi\",\n",
      "                \"/proc/kcore\",\n",
      "                \"/proc/keys\",\n",
      "                \"/proc/latency_stats\",\n",
      "                \"/proc/timer_list\",\n",
      "                \"/proc/timer_stats\",\n",
      "                \"/proc/sched_debug\",\n",
      "                \"/proc/scsi\",\n",
      "                \"/sys/firmware\"\n",
      "            ],\n",
      "            \"ReadonlyPaths\": [\n",
      "                \"/proc/bus\",\n",
      "                \"/proc/fs\",\n",
      "                \"/proc/irq\",\n",
      "                \"/proc/sys\",\n",
      "                \"/proc/sysrq-trigger\"\n",
      "            ]\n",
      "        },\n",
      "        \"GraphDriver\": {\n",
      "            \"Data\": {\n",
      "                \"LowerDir\": \"/workspace/.docker-root/overlay2/3f9c53677940da1abac0b23c10b34f3f987069e13fa9715eb201b692772dbf31-init/diff:/workspace/.docker-root/overlay2/b5609d9e9bb3b3127964e2a510d8f31725c5797deb266c3c4c135947f97feab7/diff:/workspace/.docker-root/overlay2/5a0ed60c33ee5b5cc2ea23f96284905e22f759c6b8b30e7fd34709f10158098f/diff:/workspace/.docker-root/overlay2/e54dab4dce101e07f62d4c9ab6e7beb7d24d26e04f7929ca7775060b3a6a09a8/diff:/workspace/.docker-root/overlay2/dfac149ced9523309de819a6c672a10af9b5ca0fe33ef34296f108b32e419e07/diff:/workspace/.docker-root/overlay2/5ccedd293e40c27f35d6f9310a69727933bcdb34e6ede7c995f93dc8a3f44859/diff:/workspace/.docker-root/overlay2/1e4c7d1691e8a6fadd97b017e0ec4638d37e7f73d71658a3553751ac3f7dec6a/diff:/workspace/.docker-root/overlay2/e24d8a53cbfcfc4227c88995bdc810ad83620331f57b4ad46c8bf12b9760a804/diff:/workspace/.docker-root/overlay2/f79bf02d103ec8356cf5ea5d5062d3c24d0ccc7599aa7072427ca3b476dfe4c5/diff:/workspace/.docker-root/overlay2/44de5d08e99ecfe55d5a5d34ec4de7c1f662abb6fccf924cc1f0b96cd76f0e6d/diff:/workspace/.docker-root/overlay2/32945561ddc37d21013eee2b963bf20df8d57577189467ab22c0ee4eb5177338/diff:/workspace/.docker-root/overlay2/6aac1aa3ac4f39c8fc1550b1e635f601da18d01caa34b706a57df577986629a6/diff\",\n",
      "                \"MergedDir\": \"/workspace/.docker-root/overlay2/3f9c53677940da1abac0b23c10b34f3f987069e13fa9715eb201b692772dbf31/merged\",\n",
      "                \"UpperDir\": \"/workspace/.docker-root/overlay2/3f9c53677940da1abac0b23c10b34f3f987069e13fa9715eb201b692772dbf31/diff\",\n",
      "                \"WorkDir\": \"/workspace/.docker-root/overlay2/3f9c53677940da1abac0b23c10b34f3f987069e13fa9715eb201b692772dbf31/work\"\n",
      "            },\n",
      "            \"Name\": \"overlay2\"\n",
      "        },\n",
      "        \"Mounts\": [\n",
      "            {\n",
      "                \"Type\": \"volume\",\n",
      "                \"Name\": \"0eae2009c7e12743b03e7abf53fa47610a2064134a4e9e3cff22cbe2c380712f\",\n",
      "                \"Source\": \"/workspace/.docker-root/volumes/0eae2009c7e12743b03e7abf53fa47610a2064134a4e9e3cff22cbe2c380712f/_data\",\n",
      "                \"Destination\": \"/var/lib/mysql\",\n",
      "                \"Driver\": \"local\",\n",
      "                \"Mode\": \"\",\n",
      "                \"RW\": true,\n",
      "                \"Propagation\": \"\"\n",
      "            }\n",
      "        ],\n",
      "        \"Config\": {\n",
      "            \"Hostname\": \"e0ae98a94ea6\",\n",
      "            \"Domainname\": \"\",\n",
      "            \"User\": \"\",\n",
      "            \"AttachStdin\": false,\n",
      "            \"AttachStdout\": false,\n",
      "            \"AttachStderr\": false,\n",
      "            \"ExposedPorts\": {\n",
      "                \"3306/tcp\": {},\n",
      "                \"33060/tcp\": {}\n",
      "            },\n",
      "            \"Tty\": false,\n",
      "            \"OpenStdin\": false,\n",
      "            \"StdinOnce\": false,\n",
      "            \"Env\": [\n",
      "                \"MYSQL_RANDOM_ROOT_PASSWORD=true\",\n",
      "                \"PATH=/usr/local/sbin:/usr/local/bin:/usr/sbin:/usr/bin:/sbin:/bin\",\n",
      "                \"GOSU_VERSION=1.14\",\n",
      "                \"MYSQL_MAJOR=8.0\",\n",
      "                \"MYSQL_VERSION=8.0.31-1.el8\",\n",
      "                \"MYSQL_SHELL_VERSION=8.0.31-1.el8\"\n",
      "            ],\n",
      "            \"Cmd\": [\n",
      "                \"mysqld\"\n",
      "            ],\n",
      "            \"Image\": \"mysql\",\n",
      "            \"Volumes\": {\n",
      "                \"/var/lib/mysql\": {}\n",
      "            },\n",
      "            \"WorkingDir\": \"\",\n",
      "            \"Entrypoint\": [\n",
      "                \"docker-entrypoint.sh\"\n",
      "            ],\n",
      "            \"OnBuild\": null,\n",
      "            \"Labels\": {}\n",
      "        },\n",
      "        \"NetworkSettings\": {\n",
      "            \"Bridge\": \"\",\n",
      "            \"SandboxID\": \"e33fcf583ec80c4a2dc60fd1c087bb2e7a4d2b16d655861135fede1aa5382fe0\",\n",
      "            \"HairpinMode\": false,\n",
      "            \"LinkLocalIPv6Address\": \"\",\n",
      "            \"LinkLocalIPv6PrefixLen\": 0,\n",
      "            \"Ports\": {\n",
      "                \"3306/tcp\": null,\n",
      "                \"33060/tcp\": null\n",
      "            },\n",
      "            \"SandboxKey\": \"/var/run/docker/netns/e33fcf583ec8\",\n",
      "            \"SecondaryIPAddresses\": null,\n",
      "            \"SecondaryIPv6Addresses\": null,\n",
      "            \"EndpointID\": \"fb7af2e0d8e65d6e567c72c8c7df0efd2c5690600da52d3992c8678a877e0b63\",\n",
      "            \"Gateway\": \"172.17.0.1\",\n",
      "            \"GlobalIPv6Address\": \"\",\n",
      "            \"GlobalIPv6PrefixLen\": 0,\n",
      "            \"IPAddress\": \"172.17.0.3\",\n",
      "            \"IPPrefixLen\": 16,\n",
      "            \"IPv6Gateway\": \"\",\n",
      "            \"MacAddress\": \"02:42:ac:11:00:03\",\n",
      "            \"Networks\": {\n",
      "                \"bridge\": {\n",
      "                    \"IPAMConfig\": null,\n",
      "                    \"Links\": null,\n",
      "                    \"Aliases\": null,\n",
      "                    \"NetworkID\": \"ea6d0b28230140d955392a7ca639c952f794fa99323ad9116714feb69eb49172\",\n",
      "                    \"EndpointID\": \"fb7af2e0d8e65d6e567c72c8c7df0efd2c5690600da52d3992c8678a877e0b63\",\n",
      "                    \"Gateway\": \"172.17.0.1\",\n",
      "                    \"IPAddress\": \"172.17.0.3\",\n",
      "                    \"IPPrefixLen\": 16,\n",
      "                    \"IPv6Gateway\": \"\",\n",
      "                    \"GlobalIPv6Address\": \"\",\n",
      "                    \"GlobalIPv6PrefixLen\": 0,\n",
      "                    \"MacAddress\": \"02:42:ac:11:00:03\",\n",
      "                    \"DriverOpts\": null\n",
      "                }\n",
      "            }\n",
      "        }\n",
      "    }\n",
      "]\n"
     ]
    }
   ],
   "source": [
    "!docker container inspect mysql"
   ]
  },
  {
   "cell_type": "markdown",
   "metadata": {},
   "source": [
    "## docker container stats"
   ]
  },
  {
   "cell_type": "code",
   "execution_count": 17,
   "metadata": {},
   "outputs": [
    {
     "name": "stdout",
     "output_type": "stream",
     "text": [
      "\u001b[2J\u001b[HCONTAINER ID   NAME      CPU %     MEM USAGE / LIMIT   MEM %     NET I/O         BLOCK I/O       PIDS\n",
      "e0ae98a94ea6   mysql     0.00%     366MiB / 62.8GiB    0.57%     1.22kB / 936B   430kB / 571MB   38\n",
      "\u001b[2J\u001b[HCONTAINER ID   NAME      CPU %     MEM USAGE / LIMIT   MEM %     NET I/O         BLOCK I/O       PIDS\n",
      "e0ae98a94ea6   mysql     0.00%     366MiB / 62.8GiB    0.57%     1.22kB / 936B   430kB / 571MB   38\n",
      "\u001b[2J\u001b[HCONTAINER ID   NAME      CPU %     MEM USAGE / LIMIT   MEM %     NET I/O         BLOCK I/O       PIDS\n",
      "e0ae98a94ea6   mysql     0.45%     366MiB / 62.8GiB    0.57%     1.22kB / 936B   430kB / 571MB   38\n",
      "\u001b[2J\u001b[HCONTAINER ID   NAME      CPU %     MEM USAGE / LIMIT   MEM %     NET I/O         BLOCK I/O       PIDS\n",
      "e0ae98a94ea6   mysql     0.45%     366MiB / 62.8GiB    0.57%     1.22kB / 936B   430kB / 571MB   38\n",
      "\u001b[2J\u001b[HCONTAINER ID   NAME      CPU %     MEM USAGE / LIMIT   MEM %     NET I/O         BLOCK I/O       PIDS\n",
      "e0ae98a94ea6   mysql     0.39%     366MiB / 62.8GiB    0.57%     1.22kB / 936B   430kB / 571MB   38\n",
      "\u001b[2J\u001b[HCONTAINER ID   NAME      CPU %     MEM USAGE / LIMIT   MEM %     NET I/O         BLOCK I/O       PIDS\n",
      "e0ae98a94ea6   mysql     0.39%     366MiB / 62.8GiB    0.57%     1.22kB / 936B   430kB / 571MB   38\n",
      "\u001b[2J\u001b[HCONTAINER ID   NAME      CPU %     MEM USAGE / LIMIT   MEM %     NET I/O         BLOCK I/O       PIDS\n",
      "e0ae98a94ea6   mysql     0.63%     366MiB / 62.8GiB    0.57%     1.22kB / 936B   430kB / 571MB   38\n",
      "\u001b[2J\u001b[HCONTAINER ID   NAME      CPU %     MEM USAGE / LIMIT   MEM %     NET I/O         BLOCK I/O       PIDS\n",
      "e0ae98a94ea6   mysql     0.63%     366MiB / 62.8GiB    0.57%     1.22kB / 936B   430kB / 571MB   38\n",
      "^C\n"
     ]
    }
   ],
   "source": [
    "!docker container stats mysql"
   ]
  },
  {
   "cell_type": "markdown",
   "metadata": {},
   "source": []
  }
 ],
 "metadata": {
  "kernelspec": {
   "display_name": "Python 3",
   "language": "python",
   "name": "python3"
  },
  "language_info": {
   "codemirror_mode": {
    "name": "ipython",
    "version": 3
   },
   "file_extension": ".py",
   "mimetype": "text/x-python",
   "name": "python",
   "nbconvert_exporter": "python",
   "pygments_lexer": "ipython3",
   "version": "3.8.13 (default, Oct  4 2022, 14:00:32) \n[GCC 9.4.0]"
  },
  "orig_nbformat": 4,
  "vscode": {
   "interpreter": {
    "hash": "9ac03a0a6051494cc606d484d27d20fce22fb7b4d169f583271e11d5ba46a56e"
   }
  }
 },
 "nbformat": 4,
 "nbformat_minor": 2
}
