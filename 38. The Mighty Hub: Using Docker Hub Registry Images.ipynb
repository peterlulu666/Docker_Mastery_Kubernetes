{
 "cells": [
  {
   "cell_type": "code",
   "execution_count": 1,
   "metadata": {},
   "outputs": [
    {
     "name": "stdout",
     "output_type": "stream",
     "text": [
      "1.23-alpine: Pulling from library/nginx\n",
      "\n",
      "\u001b[1Bd9ec2225: Pulling fs layer \n",
      "\u001b[1B8b0f5898: Pulling fs layer \n",
      "\u001b[1Ba0e7c01d: Pulling fs layer \n",
      "\u001b[1B9b9bbef6: Pulling fs layer \n",
      "\u001b[1B883c57af: Pulling fs layer \n",
      "\u001b[1BDigest: sha256:455c39afebd4d98ef26dd70284aa86e6810b0485af5f4f222b19b89758cabf1e[2A\u001b[2K\u001b[5A\u001b[2K\u001b[1A\u001b[2K\u001b[5A\u001b[2K\u001b[5A\u001b[2K\u001b[5A\u001b[2K\u001b[4A\u001b[2K\u001b[3A\u001b[2K\u001b[3A\u001b[2K\u001b[2A\u001b[2K\u001b[1A\u001b[2K\n",
      "Status: Downloaded newer image for nginx:1.23-alpine\n",
      "docker.io/library/nginx:1.23-alpine\n"
     ]
    }
   ],
   "source": [
    "!docker pull nginx:1.23-alpine"
   ]
  },
  {
   "cell_type": "code",
   "execution_count": 2,
   "metadata": {},
   "outputs": [
    {
     "name": "stdout",
     "output_type": "stream",
     "text": [
      "REPOSITORY   TAG           IMAGE ID       CREATED       SIZE\n",
      "nginx        1.23-alpine   19dd4d73108a   13 days ago   23.5MB\n"
     ]
    }
   ],
   "source": [
    "!docker image ls -a"
   ]
  },
  {
   "cell_type": "code",
   "execution_count": null,
   "metadata": {},
   "outputs": [],
   "source": []
  }
 ],
 "metadata": {
  "kernelspec": {
   "display_name": "Python 3",
   "language": "python",
   "name": "python3"
  },
  "language_info": {
   "codemirror_mode": {
    "name": "ipython",
    "version": 3
   },
   "file_extension": ".py",
   "mimetype": "text/x-python",
   "name": "python",
   "nbconvert_exporter": "python",
   "pygments_lexer": "ipython3",
   "version": "3.8.13"
  },
  "orig_nbformat": 4,
  "vscode": {
   "interpreter": {
    "hash": "9ac03a0a6051494cc606d484d27d20fce22fb7b4d169f583271e11d5ba46a56e"
   }
  }
 },
 "nbformat": 4,
 "nbformat_minor": 2
}
